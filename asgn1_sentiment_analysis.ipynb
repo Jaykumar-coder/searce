{
  "nbformat": 4,
  "nbformat_minor": 5,
  "metadata": {
    "kernelspec": {
      "display_name": "Python 3",
      "language": "python",
      "name": "python3"
    },
    "language_info": {
      "codemirror_mode": {
        "name": "ipython",
        "version": 3
      },
      "file_extension": ".py",
      "mimetype": "text/x-python",
      "name": "python",
      "nbconvert_exporter": "python",
      "pygments_lexer": "ipython3",
      "version": "3.7.10"
    },
    "papermill": {
      "default_parameters": {},
      "duration": 646.089363,
      "end_time": "2021-08-18T22:58:01.985111",
      "environment_variables": {},
      "exception": null,
      "input_path": "__notebook__.ipynb",
      "output_path": "__notebook__.ipynb",
      "parameters": {},
      "start_time": "2021-08-18T22:47:15.895748",
      "version": "2.3.3"
    },
    "colab": {
      "name": "asgn1_sentiment_analysis.ipynb",
      "provenance": [],
      "include_colab_link": true
    }
  },
  "cells": [
    {
      "cell_type": "markdown",
      "metadata": {
        "id": "view-in-github",
        "colab_type": "text"
      },
      "source": [
        "<a href=\"https://colab.research.google.com/github/Jaykumar-coder/searce/blob/main/asgn1_sentiment_analysis.ipynb\" target=\"_parent\"><img src=\"https://colab.research.google.com/assets/colab-badge.svg\" alt=\"Open In Colab\"/></a>"
      ]
    },
    {
      "cell_type": "code",
      "metadata": {
        "execution": {
          "iopub.execute_input": "2021-08-18T22:47:24.904615Z",
          "iopub.status.busy": "2021-08-18T22:47:24.903798Z",
          "iopub.status.idle": "2021-08-18T22:47:26.973215Z",
          "shell.execute_reply": "2021-08-18T22:47:26.972214Z",
          "shell.execute_reply.started": "2021-08-18T15:15:54.047024Z"
        },
        "papermill": {
          "duration": 2.111509,
          "end_time": "2021-08-18T22:47:26.973428",
          "exception": false,
          "start_time": "2021-08-18T22:47:24.861919",
          "status": "completed"
        },
        "tags": [],
        "colab": {
          "base_uri": "https://localhost:8080/"
        },
        "id": "6d4e7667",
        "outputId": "49567a51-f1fd-460b-8b98-459dd5aaed87"
      },
      "source": [
        "import pandas as pd\n",
        "import numpy as np\n",
        "import matplotlib.pyplot as plt\n",
        "\n",
        "from sklearn.base import BaseEstimator, TransformerMixin\n",
        "from sklearn.pipeline import Pipeline\n",
        "from sklearn.feature_extraction.text import CountVectorizer, TfidfVectorizer\n",
        "from sklearn.model_selection import cross_val_score, cross_val_predict\n",
        "from sklearn.linear_model import LogisticRegression\n",
        "\n",
        "import re\n",
        "import string\n",
        "\n",
        "import nltk\n",
        "from nltk.stem import RSLPStemmer\n",
        "nltk.download('rslp')\n",
        "from nltk.corpus import stopwords\n",
        "nltk.download('stopwords')\n",
        "STOPWORDS = stopwords.words('portuguese')\n",
        "\n",
        "from scipy.stats import loguniform\n",
        "from pandas import read_csv\n",
        "from sklearn.linear_model import LogisticRegression\n",
        "from sklearn.model_selection import RepeatedStratifiedKFold\n",
        "from sklearn.model_selection import RandomizedSearchCV"
      ],
      "id": "6d4e7667",
      "execution_count": null,
      "outputs": [
        {
          "output_type": "stream",
          "text": [
            "[nltk_data] Downloading package rslp to /root/nltk_data...\n",
            "[nltk_data]   Unzipping stemmers/rslp.zip.\n",
            "[nltk_data] Downloading package stopwords to /root/nltk_data...\n",
            "[nltk_data]   Unzipping corpora/stopwords.zip.\n"
          ],
          "name": "stdout"
        }
      ]
    },
    {
      "cell_type": "markdown",
      "metadata": {
        "id": "mZt8Hyn8kG3U"
      },
      "source": [
        "Parametrization"
      ],
      "id": "mZt8Hyn8kG3U"
    },
    {
      "cell_type": "code",
      "metadata": {
        "execution": {
          "iopub.execute_input": "2021-08-18T22:47:27.151240Z",
          "iopub.status.busy": "2021-08-18T22:47:27.150526Z",
          "iopub.status.idle": "2021-08-18T22:47:27.153678Z",
          "shell.execute_reply": "2021-08-18T22:47:27.153140Z",
          "shell.execute_reply.started": "2021-08-18T15:15:55.981037Z"
        },
        "papermill": {
          "duration": 0.036736,
          "end_time": "2021-08-18T22:47:27.153835",
          "exception": false,
          "start_time": "2021-08-18T22:47:27.117099",
          "status": "completed"
        },
        "tags": [],
        "colab": {
          "base_uri": "https://localhost:8080/"
        },
        "id": "4fe261b0",
        "outputId": "9b5cb26f-f159-4b4c-8d67-a36c50729268"
      },
      "source": [
        "from argparse import Namespace\n",
        "# Mounting the google drive\n",
        "from google.colab import drive\n",
        "drive.mount('/content/drive')\n",
        "params = Namespace(\n",
        "    dataset_path = '/content/drive/MyDrive/searce/asgn1/olist_order_reviews_dataset.csv',\n",
        "    max_features = 300,\n",
        "    test_size=.30,\n",
        "    random_state=42,\n",
        "    max_iter_lg = 10000\n",
        ")"
      ],
      "id": "4fe261b0",
      "execution_count": null,
      "outputs": [
        {
          "output_type": "stream",
          "text": [
            "Mounted at /content/drive\n"
          ],
          "name": "stdout"
        }
      ]
    },
    {
      "cell_type": "markdown",
      "metadata": {
        "papermill": {
          "duration": 0.026892,
          "end_time": "2021-08-18T22:47:27.262395",
          "exception": false,
          "start_time": "2021-08-18T22:47:27.235503",
          "status": "completed"
        },
        "tags": [],
        "id": "b3d4fd6f"
      },
      "source": [
        "<a id=\"load-data\"></a>\n",
        "## Load Data"
      ],
      "id": "b3d4fd6f"
    },
    {
      "cell_type": "code",
      "metadata": {
        "execution": {
          "iopub.execute_input": "2021-08-18T22:47:27.324669Z",
          "iopub.status.busy": "2021-08-18T22:47:27.323891Z",
          "iopub.status.idle": "2021-08-18T22:47:28.148214Z",
          "shell.execute_reply": "2021-08-18T22:47:28.147457Z",
          "shell.execute_reply.started": "2021-08-18T15:15:55.988293Z"
        },
        "papermill": {
          "duration": 0.857297,
          "end_time": "2021-08-18T22:47:28.148362",
          "exception": false,
          "start_time": "2021-08-18T22:47:27.291065",
          "status": "completed"
        },
        "tags": [],
        "colab": {
          "base_uri": "https://localhost:8080/",
          "height": 258
        },
        "id": "60d4dfd6",
        "outputId": "451b58fe-78dc-4bec-d2cf-f939586d6d44"
      },
      "source": [
        "reviews = pd.read_csv(params.dataset_path)\n",
        "reviews.head()"
      ],
      "id": "60d4dfd6",
      "execution_count": null,
      "outputs": [
        {
          "output_type": "execute_result",
          "data": {
            "text/html": [
              "<div>\n",
              "<style scoped>\n",
              "    .dataframe tbody tr th:only-of-type {\n",
              "        vertical-align: middle;\n",
              "    }\n",
              "\n",
              "    .dataframe tbody tr th {\n",
              "        vertical-align: top;\n",
              "    }\n",
              "\n",
              "    .dataframe thead th {\n",
              "        text-align: right;\n",
              "    }\n",
              "</style>\n",
              "<table border=\"1\" class=\"dataframe\">\n",
              "  <thead>\n",
              "    <tr style=\"text-align: right;\">\n",
              "      <th></th>\n",
              "      <th>review_id</th>\n",
              "      <th>order_id</th>\n",
              "      <th>review_score</th>\n",
              "      <th>review_comment_title</th>\n",
              "      <th>review_comment_message</th>\n",
              "      <th>review_creation_date</th>\n",
              "      <th>review_answer_timestamp</th>\n",
              "    </tr>\n",
              "  </thead>\n",
              "  <tbody>\n",
              "    <tr>\n",
              "      <th>0</th>\n",
              "      <td>7bc2406110b926393aa56f80a40eba40</td>\n",
              "      <td>73fc7af87114b39712e6da79b0a377eb</td>\n",
              "      <td>4</td>\n",
              "      <td>NaN</td>\n",
              "      <td>NaN</td>\n",
              "      <td>2018-01-18 00:00:00</td>\n",
              "      <td>2018-01-18 21:46:59</td>\n",
              "    </tr>\n",
              "    <tr>\n",
              "      <th>1</th>\n",
              "      <td>80e641a11e56f04c1ad469d5645fdfde</td>\n",
              "      <td>a548910a1c6147796b98fdf73dbeba33</td>\n",
              "      <td>5</td>\n",
              "      <td>NaN</td>\n",
              "      <td>NaN</td>\n",
              "      <td>2018-03-10 00:00:00</td>\n",
              "      <td>2018-03-11 03:05:13</td>\n",
              "    </tr>\n",
              "    <tr>\n",
              "      <th>2</th>\n",
              "      <td>228ce5500dc1d8e020d8d1322874b6f0</td>\n",
              "      <td>f9e4b658b201a9f2ecdecbb34bed034b</td>\n",
              "      <td>5</td>\n",
              "      <td>NaN</td>\n",
              "      <td>NaN</td>\n",
              "      <td>2018-02-17 00:00:00</td>\n",
              "      <td>2018-02-18 14:36:24</td>\n",
              "    </tr>\n",
              "    <tr>\n",
              "      <th>3</th>\n",
              "      <td>e64fb393e7b32834bb789ff8bb30750e</td>\n",
              "      <td>658677c97b385a9be170737859d3511b</td>\n",
              "      <td>5</td>\n",
              "      <td>NaN</td>\n",
              "      <td>Recebi bem antes do prazo estipulado.</td>\n",
              "      <td>2017-04-21 00:00:00</td>\n",
              "      <td>2017-04-21 22:02:06</td>\n",
              "    </tr>\n",
              "    <tr>\n",
              "      <th>4</th>\n",
              "      <td>f7c4243c7fe1938f181bec41a392bdeb</td>\n",
              "      <td>8e6bfb81e283fa7e4f11123a3fb894f1</td>\n",
              "      <td>5</td>\n",
              "      <td>NaN</td>\n",
              "      <td>Parabéns lojas lannister adorei comprar pela I...</td>\n",
              "      <td>2018-03-01 00:00:00</td>\n",
              "      <td>2018-03-02 10:26:53</td>\n",
              "    </tr>\n",
              "  </tbody>\n",
              "</table>\n",
              "</div>"
            ],
            "text/plain": [
              "                          review_id  ... review_answer_timestamp\n",
              "0  7bc2406110b926393aa56f80a40eba40  ...     2018-01-18 21:46:59\n",
              "1  80e641a11e56f04c1ad469d5645fdfde  ...     2018-03-11 03:05:13\n",
              "2  228ce5500dc1d8e020d8d1322874b6f0  ...     2018-02-18 14:36:24\n",
              "3  e64fb393e7b32834bb789ff8bb30750e  ...     2017-04-21 22:02:06\n",
              "4  f7c4243c7fe1938f181bec41a392bdeb  ...     2018-03-02 10:26:53\n",
              "\n",
              "[5 rows x 7 columns]"
            ]
          },
          "metadata": {},
          "execution_count": 3
        }
      ]
    },
    {
      "cell_type": "markdown",
      "metadata": {
        "papermill": {
          "duration": 0.02744,
          "end_time": "2021-08-18T22:47:28.203750",
          "exception": false,
          "start_time": "2021-08-18T22:47:28.176310",
          "status": "completed"
        },
        "tags": [],
        "id": "73cd4258"
      },
      "source": [
        "<a id=\"select-columns\"></a>\n",
        "## Select Columns"
      ],
      "id": "73cd4258"
    },
    {
      "cell_type": "code",
      "metadata": {
        "execution": {
          "iopub.execute_input": "2021-08-18T22:47:28.267250Z",
          "iopub.status.busy": "2021-08-18T22:47:28.266548Z",
          "iopub.status.idle": "2021-08-18T22:47:28.279534Z",
          "shell.execute_reply": "2021-08-18T22:47:28.280043Z",
          "shell.execute_reply.started": "2021-08-18T15:15:56.790142Z"
        },
        "papermill": {
          "duration": 0.048757,
          "end_time": "2021-08-18T22:47:28.280225",
          "exception": false,
          "start_time": "2021-08-18T22:47:28.231468",
          "status": "completed"
        },
        "tags": [],
        "colab": {
          "base_uri": "https://localhost:8080/",
          "height": 204
        },
        "id": "88d50315",
        "outputId": "2c97821a-3b12-4b4e-f6d7-0ef334a60c9d"
      },
      "source": [
        "columns = ['review_comment_message','review_score']\n",
        "reviews = reviews[columns]\n",
        "reviews.head()"
      ],
      "id": "88d50315",
      "execution_count": null,
      "outputs": [
        {
          "output_type": "execute_result",
          "data": {
            "text/html": [
              "<div>\n",
              "<style scoped>\n",
              "    .dataframe tbody tr th:only-of-type {\n",
              "        vertical-align: middle;\n",
              "    }\n",
              "\n",
              "    .dataframe tbody tr th {\n",
              "        vertical-align: top;\n",
              "    }\n",
              "\n",
              "    .dataframe thead th {\n",
              "        text-align: right;\n",
              "    }\n",
              "</style>\n",
              "<table border=\"1\" class=\"dataframe\">\n",
              "  <thead>\n",
              "    <tr style=\"text-align: right;\">\n",
              "      <th></th>\n",
              "      <th>review_comment_message</th>\n",
              "      <th>review_score</th>\n",
              "    </tr>\n",
              "  </thead>\n",
              "  <tbody>\n",
              "    <tr>\n",
              "      <th>0</th>\n",
              "      <td>NaN</td>\n",
              "      <td>4</td>\n",
              "    </tr>\n",
              "    <tr>\n",
              "      <th>1</th>\n",
              "      <td>NaN</td>\n",
              "      <td>5</td>\n",
              "    </tr>\n",
              "    <tr>\n",
              "      <th>2</th>\n",
              "      <td>NaN</td>\n",
              "      <td>5</td>\n",
              "    </tr>\n",
              "    <tr>\n",
              "      <th>3</th>\n",
              "      <td>Recebi bem antes do prazo estipulado.</td>\n",
              "      <td>5</td>\n",
              "    </tr>\n",
              "    <tr>\n",
              "      <th>4</th>\n",
              "      <td>Parabéns lojas lannister adorei comprar pela I...</td>\n",
              "      <td>5</td>\n",
              "    </tr>\n",
              "  </tbody>\n",
              "</table>\n",
              "</div>"
            ],
            "text/plain": [
              "                              review_comment_message  review_score\n",
              "0                                                NaN             4\n",
              "1                                                NaN             5\n",
              "2                                                NaN             5\n",
              "3              Recebi bem antes do prazo estipulado.             5\n",
              "4  Parabéns lojas lannister adorei comprar pela I...             5"
            ]
          },
          "metadata": {},
          "execution_count": 4
        }
      ]
    },
    {
      "cell_type": "markdown",
      "metadata": {
        "papermill": {
          "duration": 0.030587,
          "end_time": "2021-08-18T22:47:28.339664",
          "exception": false,
          "start_time": "2021-08-18T22:47:28.309077",
          "status": "completed"
        },
        "tags": [],
        "id": "07d1c24c"
      },
      "source": [
        "<a id=\"remove-null\"></a>\n",
        "## Remove Null Data"
      ],
      "id": "07d1c24c"
    },
    {
      "cell_type": "code",
      "metadata": {
        "execution": {
          "iopub.execute_input": "2021-08-18T22:47:28.420160Z",
          "iopub.status.busy": "2021-08-18T22:47:28.408437Z",
          "iopub.status.idle": "2021-08-18T22:47:28.451631Z",
          "shell.execute_reply": "2021-08-18T22:47:28.451063Z",
          "shell.execute_reply.started": "2021-08-18T15:15:56.810496Z"
        },
        "papermill": {
          "duration": 0.084134,
          "end_time": "2021-08-18T22:47:28.451810",
          "exception": false,
          "start_time": "2021-08-18T22:47:28.367676",
          "status": "completed"
        },
        "tags": [],
        "colab": {
          "base_uri": "https://localhost:8080/"
        },
        "id": "6f955697",
        "outputId": "32b16ef6-06d8-47be-f086-3a3b068aa9b8"
      },
      "source": [
        "hasNull = reviews.isnull().any().any()\n",
        "\n",
        "if hasNull :\n",
        "    print('\\nPorcentage (%).')\n",
        "    print(f'{round((reviews.count()/reviews.isnull().sum()) * 100).replace([np.inf, -np.inf], 0),2}\\n')\n",
        "else:\n",
        "    print('There are no null data.')"
      ],
      "id": "6f955697",
      "execution_count": null,
      "outputs": [
        {
          "output_type": "stream",
          "text": [
            "\n",
            "Porcentage (%).\n",
            "(review_comment_message    72.0\n",
            "review_score               0.0\n",
            "dtype: float64, 2)\n",
            "\n"
          ],
          "name": "stdout"
        }
      ]
    },
    {
      "cell_type": "code",
      "metadata": {
        "execution": {
          "iopub.execute_input": "2021-08-18T22:47:28.525328Z",
          "iopub.status.busy": "2021-08-18T22:47:28.524660Z",
          "iopub.status.idle": "2021-08-18T22:47:28.538956Z",
          "shell.execute_reply": "2021-08-18T22:47:28.539637Z",
          "shell.execute_reply.started": "2021-08-18T15:15:56.876036Z"
        },
        "papermill": {
          "duration": 0.059069,
          "end_time": "2021-08-18T22:47:28.539891",
          "exception": false,
          "start_time": "2021-08-18T22:47:28.480822",
          "status": "completed"
        },
        "tags": [],
        "colab": {
          "base_uri": "https://localhost:8080/"
        },
        "id": "fd71b65a",
        "outputId": "33f313b2-6f35-4215-a67e-0f653d305c5e"
      },
      "source": [
        "print(f'Number of Observations with null data: {reviews.shape[0]}\\n')\n",
        "reviews = reviews.dropna(subset=['review_comment_message'])\n",
        "print(f'Number of observations after null data removal: {reviews.shape[0]}\\n')"
      ],
      "id": "fd71b65a",
      "execution_count": null,
      "outputs": [
        {
          "output_type": "stream",
          "text": [
            "Number of Observations with null data: 100000\n",
            "\n",
            "Number of observations after null data removal: 41753\n",
            "\n"
          ],
          "name": "stdout"
        }
      ]
    },
    {
      "cell_type": "markdown",
      "metadata": {
        "papermill": {
          "duration": 0.02821,
          "end_time": "2021-08-18T22:47:28.597750",
          "exception": false,
          "start_time": "2021-08-18T22:47:28.569540",
          "status": "completed"
        },
        "tags": [],
        "id": "37046fd2"
      },
      "source": [
        "<a id=\"label-sentiment\"></a>\n",
        "## Label"
      ],
      "id": "37046fd2"
    },
    {
      "cell_type": "code",
      "metadata": {
        "execution": {
          "iopub.execute_input": "2021-08-18T22:47:28.663575Z",
          "iopub.status.busy": "2021-08-18T22:47:28.662808Z",
          "iopub.status.idle": "2021-08-18T22:47:28.683929Z",
          "shell.execute_reply": "2021-08-18T22:47:28.683174Z",
          "shell.execute_reply.started": "2021-08-18T15:15:56.903108Z"
        },
        "papermill": {
          "duration": 0.057562,
          "end_time": "2021-08-18T22:47:28.684073",
          "exception": false,
          "start_time": "2021-08-18T22:47:28.626511",
          "status": "completed"
        },
        "tags": [],
        "colab": {
          "base_uri": "https://localhost:8080/",
          "height": 359
        },
        "id": "4d19f07f",
        "outputId": "00a1e8dc-2ddd-4c19-ccdc-131da0c84984"
      },
      "source": [
        "points = [0, 2, 5]\n",
        "polarities = [0, 1]\n",
        "reviews['label'] = pd.cut(reviews['review_score'], bins=points, labels=polarities)\n",
        "\n",
        "reviews = reviews[['review_comment_message','label']]\n",
        "reviews = reviews.rename(columns={'review_comment_message':'text'})\n",
        "reviews.head(10)"
      ],
      "id": "4d19f07f",
      "execution_count": null,
      "outputs": [
        {
          "output_type": "execute_result",
          "data": {
            "text/html": [
              "<div>\n",
              "<style scoped>\n",
              "    .dataframe tbody tr th:only-of-type {\n",
              "        vertical-align: middle;\n",
              "    }\n",
              "\n",
              "    .dataframe tbody tr th {\n",
              "        vertical-align: top;\n",
              "    }\n",
              "\n",
              "    .dataframe thead th {\n",
              "        text-align: right;\n",
              "    }\n",
              "</style>\n",
              "<table border=\"1\" class=\"dataframe\">\n",
              "  <thead>\n",
              "    <tr style=\"text-align: right;\">\n",
              "      <th></th>\n",
              "      <th>text</th>\n",
              "      <th>label</th>\n",
              "    </tr>\n",
              "  </thead>\n",
              "  <tbody>\n",
              "    <tr>\n",
              "      <th>3</th>\n",
              "      <td>Recebi bem antes do prazo estipulado.</td>\n",
              "      <td>1</td>\n",
              "    </tr>\n",
              "    <tr>\n",
              "      <th>4</th>\n",
              "      <td>Parabéns lojas lannister adorei comprar pela I...</td>\n",
              "      <td>1</td>\n",
              "    </tr>\n",
              "    <tr>\n",
              "      <th>9</th>\n",
              "      <td>aparelho eficiente. no site a marca do aparelh...</td>\n",
              "      <td>1</td>\n",
              "    </tr>\n",
              "    <tr>\n",
              "      <th>12</th>\n",
              "      <td>Mas um pouco ,travando...pelo valor ta Boa.\\r\\n</td>\n",
              "      <td>1</td>\n",
              "    </tr>\n",
              "    <tr>\n",
              "      <th>15</th>\n",
              "      <td>Vendedor confiável, produto ok e entrega antes...</td>\n",
              "      <td>1</td>\n",
              "    </tr>\n",
              "    <tr>\n",
              "      <th>16</th>\n",
              "      <td>GOSTARIA DE SABER O QUE HOUVE, SEMPRE RECEBI E...</td>\n",
              "      <td>0</td>\n",
              "    </tr>\n",
              "    <tr>\n",
              "      <th>19</th>\n",
              "      <td>Péssimo</td>\n",
              "      <td>0</td>\n",
              "    </tr>\n",
              "    <tr>\n",
              "      <th>22</th>\n",
              "      <td>Loja nota 10</td>\n",
              "      <td>1</td>\n",
              "    </tr>\n",
              "    <tr>\n",
              "      <th>24</th>\n",
              "      <td>obrigado pela atençao amim dispensada</td>\n",
              "      <td>1</td>\n",
              "    </tr>\n",
              "    <tr>\n",
              "      <th>27</th>\n",
              "      <td>A compra foi realizada facilmente.\\r\\nA entreg...</td>\n",
              "      <td>1</td>\n",
              "    </tr>\n",
              "  </tbody>\n",
              "</table>\n",
              "</div>"
            ],
            "text/plain": [
              "                                                 text label\n",
              "3               Recebi bem antes do prazo estipulado.     1\n",
              "4   Parabéns lojas lannister adorei comprar pela I...     1\n",
              "9   aparelho eficiente. no site a marca do aparelh...     1\n",
              "12    Mas um pouco ,travando...pelo valor ta Boa.\\r\\n     1\n",
              "15  Vendedor confiável, produto ok e entrega antes...     1\n",
              "16  GOSTARIA DE SABER O QUE HOUVE, SEMPRE RECEBI E...     0\n",
              "19                                            Péssimo     0\n",
              "22                                       Loja nota 10     1\n",
              "24              obrigado pela atençao amim dispensada     1\n",
              "27  A compra foi realizada facilmente.\\r\\nA entreg...     1"
            ]
          },
          "metadata": {},
          "execution_count": 7
        }
      ]
    },
    {
      "cell_type": "markdown",
      "metadata": {
        "papermill": {
          "duration": 0.029116,
          "end_time": "2021-08-18T22:47:28.742972",
          "exception": false,
          "start_time": "2021-08-18T22:47:28.713856",
          "status": "completed"
        },
        "tags": [],
        "id": "6e60ba1b"
      },
      "source": [
        "<a id=\"preprocess\"></a>\n",
        "## Pre process"
      ],
      "id": "6e60ba1b"
    },
    {
      "cell_type": "markdown",
      "metadata": {
        "papermill": {
          "duration": 0.02965,
          "end_time": "2021-08-18T22:47:28.801804",
          "exception": false,
          "start_time": "2021-08-18T22:47:28.772154",
          "status": "completed"
        },
        "tags": [],
        "id": "c3c7c601"
      },
      "source": [
        "<a id=\"clear-text\"></a>\n",
        "### Clear Text"
      ],
      "id": "c3c7c601"
    },
    {
      "cell_type": "code",
      "metadata": {
        "execution": {
          "iopub.execute_input": "2021-08-18T22:47:28.870063Z",
          "iopub.status.busy": "2021-08-18T22:47:28.869335Z",
          "iopub.status.idle": "2021-08-18T22:47:28.872694Z",
          "shell.execute_reply": "2021-08-18T22:47:28.872154Z",
          "shell.execute_reply.started": "2021-08-18T15:15:56.935310Z"
        },
        "papermill": {
          "duration": 0.041893,
          "end_time": "2021-08-18T22:47:28.872861",
          "exception": false,
          "start_time": "2021-08-18T22:47:28.830968",
          "status": "completed"
        },
        "tags": [],
        "id": "b420d015"
      },
      "source": [
        "class ClearPipe(BaseEstimator, TransformerMixin):\n",
        "        \n",
        "    def fit(self, X, y=None):\n",
        "        return self\n",
        "    \n",
        "    def transform(self, X, y=None):\n",
        "        texto_transformado = []\n",
        "        for texto in X:\n",
        "            texto = re.sub('\\n', ' ', texto)\n",
        "            \n",
        "            texto = re.sub('\\r', ' ', texto)\n",
        "\n",
        "            texto = re.sub(r'\\d+(?:\\.\\d*(?:[eE]\\d+))?', ' numero ', texto)\n",
        "\n",
        "            texto = re.sub(r'R\\$', ' ', texto)\n",
        "            texto = re.sub(r'\\W', ' ', texto)\n",
        "            texto = re.sub(r'\\s+', ' ', texto)\n",
        "\n",
        "            urls = re.findall('(http|ftp|https)://([\\w_-]+(?:(?:\\.[\\w_-]+)+))([\\w.,@?^=%&:/~+#-]*[\\w@?^=%&/~+#-])?', texto)\n",
        "            if len(urls) == 0:\n",
        "                pass\n",
        "            else:\n",
        "                for url in urls:\n",
        "                    for link in url:\n",
        "                        texto = texto.replace(link, '')\n",
        "                texto = texto.replace(':', '')\n",
        "                texto = texto.replace('/', '')\n",
        "          \n",
        "            texto_transformado.append(texto)\n",
        "        return texto_transformado"
      ],
      "id": "b420d015",
      "execution_count": null,
      "outputs": []
    },
    {
      "cell_type": "code",
      "metadata": {
        "execution": {
          "iopub.execute_input": "2021-08-18T22:47:28.939596Z",
          "iopub.status.busy": "2021-08-18T22:47:28.938929Z",
          "iopub.status.idle": "2021-08-18T22:47:28.942380Z",
          "shell.execute_reply": "2021-08-18T22:47:28.941632Z",
          "shell.execute_reply.started": "2021-08-18T15:15:56.948197Z"
        },
        "papermill": {
          "duration": 0.040379,
          "end_time": "2021-08-18T22:47:28.942542",
          "exception": false,
          "start_time": "2021-08-18T22:47:28.902163",
          "status": "completed"
        },
        "tags": [],
        "id": "4cdda7af"
      },
      "source": [
        "class StopWordsPipe(BaseEstimator, TransformerMixin):\n",
        "    \n",
        "    def fit(self, X, y=None):\n",
        "        return self\n",
        "\n",
        "    def _removeStopPipe(self, text):\n",
        "        nopunc = [char for char in text if char not in string.punctuation]\n",
        "        nopunc = ''.join(nopunc)\n",
        "        return [word for word in nopunc.split() if word.lower() not in STOPWORDS]\n",
        "\n",
        "    def transform(self, X, y=None):\n",
        "        texto_transformado = list(map(lambda c: self._removeStopPipe(c), X))\n",
        "        texto_transformado = list(map(lambda x: ' '.join(x), texto_transformado))\n",
        "        return texto_transformado"
      ],
      "id": "4cdda7af",
      "execution_count": null,
      "outputs": []
    },
    {
      "cell_type": "markdown",
      "metadata": {
        "papermill": {
          "duration": 0.028957,
          "end_time": "2021-08-18T22:47:29.000633",
          "exception": false,
          "start_time": "2021-08-18T22:47:28.971676",
          "status": "completed"
        },
        "tags": [],
        "id": "076baa28"
      },
      "source": [
        "<a id=\"Steamming\"></a>\n",
        "### Steamming"
      ],
      "id": "076baa28"
    },
    {
      "cell_type": "code",
      "metadata": {
        "execution": {
          "iopub.execute_input": "2021-08-18T22:47:29.067659Z",
          "iopub.status.busy": "2021-08-18T22:47:29.066975Z",
          "iopub.status.idle": "2021-08-18T22:47:29.070397Z",
          "shell.execute_reply": "2021-08-18T22:47:29.069744Z",
          "shell.execute_reply.started": "2021-08-18T15:15:56.962650Z"
        },
        "papermill": {
          "duration": 0.039802,
          "end_time": "2021-08-18T22:47:29.070546",
          "exception": false,
          "start_time": "2021-08-18T22:47:29.030744",
          "status": "completed"
        },
        "tags": [],
        "id": "24317156"
      },
      "source": [
        "class SteammingPipe(BaseEstimator, TransformerMixin):\n",
        "    \n",
        "    def fit(self, X, y=None):\n",
        "        return self\n",
        "    \n",
        "    def _applySteaming(self, c):\n",
        "        stemmer = RSLPStemmer()\n",
        "        return list(map(lambda x: stemmer.stem(x), [word for word in c.split()]))\n",
        "    \n",
        "    def transform(self, X, y=None):\n",
        "        texto_transformado = list(map(lambda c: self._applySteaming(c), X))\n",
        "        texto_transformado = list(map(lambda x: ' '.join(x), texto_transformado))\n",
        "        return texto_transformado"
      ],
      "id": "24317156",
      "execution_count": null,
      "outputs": []
    },
    {
      "cell_type": "code",
      "metadata": {
        "execution": {
          "iopub.execute_input": "2021-08-18T22:47:29.132077Z",
          "iopub.status.busy": "2021-08-18T22:47:29.131411Z",
          "iopub.status.idle": "2021-08-18T22:47:29.135307Z",
          "shell.execute_reply": "2021-08-18T22:47:29.135764Z",
          "shell.execute_reply.started": "2021-08-18T15:15:56.973162Z"
        },
        "papermill": {
          "duration": 0.036247,
          "end_time": "2021-08-18T22:47:29.135952",
          "exception": false,
          "start_time": "2021-08-18T22:47:29.099705",
          "status": "completed"
        },
        "tags": [],
        "id": "78000ee5"
      },
      "source": [
        "pipe_preprocessamento = Pipeline([\n",
        "    ('clear', ClearPipe()),\n",
        "    ('stopwords', StopWordsPipe()),\n",
        "    ('stemming', SteammingPipe()),\n",
        "])"
      ],
      "id": "78000ee5",
      "execution_count": null,
      "outputs": []
    },
    {
      "cell_type": "code",
      "metadata": {
        "execution": {
          "iopub.execute_input": "2021-08-18T22:47:29.197463Z",
          "iopub.status.busy": "2021-08-18T22:47:29.196804Z",
          "iopub.status.idle": "2021-08-18T22:48:30.318693Z",
          "shell.execute_reply": "2021-08-18T22:48:30.319276Z",
          "shell.execute_reply.started": "2021-08-18T15:15:56.992349Z"
        },
        "papermill": {
          "duration": 61.154344,
          "end_time": "2021-08-18T22:48:30.319474",
          "exception": false,
          "start_time": "2021-08-18T22:47:29.165130",
          "status": "completed"
        },
        "tags": [],
        "id": "675d2b00"
      },
      "source": [
        "text_preprocessed = pipe_preprocessamento.fit_transform(reviews['text'])"
      ],
      "id": "675d2b00",
      "execution_count": null,
      "outputs": []
    },
    {
      "cell_type": "markdown",
      "metadata": {
        "papermill": {
          "duration": 0.028814,
          "end_time": "2021-08-18T22:48:30.377757",
          "exception": false,
          "start_time": "2021-08-18T22:48:30.348943",
          "status": "completed"
        },
        "tags": [],
        "id": "5dbdf109"
      },
      "source": [
        "<a id=\"vectorization\"></a>\n",
        "### Vectorization"
      ],
      "id": "5dbdf109"
    },
    {
      "cell_type": "code",
      "metadata": {
        "execution": {
          "iopub.execute_input": "2021-08-18T22:48:30.443243Z",
          "iopub.status.busy": "2021-08-18T22:48:30.442039Z",
          "iopub.status.idle": "2021-08-18T22:48:31.130143Z",
          "shell.execute_reply": "2021-08-18T22:48:31.130655Z",
          "shell.execute_reply.started": "2021-08-18T15:16:58.705295Z"
        },
        "papermill": {
          "duration": 0.722437,
          "end_time": "2021-08-18T22:48:31.130888",
          "exception": false,
          "start_time": "2021-08-18T22:48:30.408451",
          "status": "completed"
        },
        "tags": [],
        "id": "16691476"
      },
      "source": [
        "vectorizer = CountVectorizer(max_features=params.max_features, stop_words=STOPWORDS)\n",
        "X = vectorizer.fit_transform(text_preprocessed).toarray()"
      ],
      "id": "16691476",
      "execution_count": null,
      "outputs": []
    },
    {
      "cell_type": "markdown",
      "metadata": {
        "papermill": {
          "duration": 0.029128,
          "end_time": "2021-08-18T22:48:31.189399",
          "exception": false,
          "start_time": "2021-08-18T22:48:31.160271",
          "status": "completed"
        },
        "tags": [],
        "id": "c84da4fe"
      },
      "source": [
        "<a id=\"split-train\"></a>\n",
        "### Split dataset"
      ],
      "id": "c84da4fe"
    },
    {
      "cell_type": "code",
      "metadata": {
        "execution": {
          "iopub.execute_input": "2021-08-18T22:48:31.253211Z",
          "iopub.status.busy": "2021-08-18T22:48:31.252119Z",
          "iopub.status.idle": "2021-08-18T22:48:31.313377Z",
          "shell.execute_reply": "2021-08-18T22:48:31.313915Z",
          "shell.execute_reply.started": "2021-08-18T15:16:59.383911Z"
        },
        "papermill": {
          "duration": 0.094706,
          "end_time": "2021-08-18T22:48:31.314119",
          "exception": false,
          "start_time": "2021-08-18T22:48:31.219413",
          "status": "completed"
        },
        "tags": [],
        "id": "01618a70"
      },
      "source": [
        "from sklearn.model_selection import train_test_split\n",
        "\n",
        "y = reviews['label'].values\n",
        "X_train, X_test, y_train, y_test = train_test_split(X, y, test_size=params.test_size, random_state=params.random_state)"
      ],
      "id": "01618a70",
      "execution_count": null,
      "outputs": []
    },
    {
      "cell_type": "markdown",
      "metadata": {
        "papermill": {
          "duration": 0.030728,
          "end_time": "2021-08-18T22:48:31.375746",
          "exception": false,
          "start_time": "2021-08-18T22:48:31.345018",
          "status": "completed"
        },
        "tags": [],
        "id": "2ccc192f"
      },
      "source": [
        "<a id=\"modeling\"></a>\n",
        "## Modeling"
      ],
      "id": "2ccc192f"
    },
    {
      "cell_type": "code",
      "metadata": {
        "execution": {
          "iopub.execute_input": "2021-08-18T22:48:31.441515Z",
          "iopub.status.busy": "2021-08-18T22:48:31.440473Z",
          "iopub.status.idle": "2021-08-18T22:48:33.008556Z",
          "shell.execute_reply": "2021-08-18T22:48:33.009937Z",
          "shell.execute_reply.started": "2021-08-18T15:16:59.446223Z"
        },
        "papermill": {
          "duration": 1.60547,
          "end_time": "2021-08-18T22:48:33.010211",
          "exception": false,
          "start_time": "2021-08-18T22:48:31.404741",
          "status": "completed"
        },
        "tags": [],
        "colab": {
          "base_uri": "https://localhost:8080/"
        },
        "id": "914ed83e",
        "outputId": "5cbd1fd3-4a3e-4bad-c86e-a3e867528dd4"
      },
      "source": [
        "model = LogisticRegression( max_iter=params.max_iter_lg,  dual=False)\n",
        "model.fit(X_train, y_train,)"
      ],
      "id": "914ed83e",
      "execution_count": null,
      "outputs": [
        {
          "output_type": "execute_result",
          "data": {
            "text/plain": [
              "LogisticRegression(C=1.0, class_weight=None, dual=False, fit_intercept=True,\n",
              "                   intercept_scaling=1, l1_ratio=None, max_iter=10000,\n",
              "                   multi_class='auto', n_jobs=None, penalty='l2',\n",
              "                   random_state=None, solver='lbfgs', tol=0.0001, verbose=0,\n",
              "                   warm_start=False)"
            ]
          },
          "metadata": {},
          "execution_count": 15
        }
      ]
    },
    {
      "cell_type": "markdown",
      "metadata": {
        "papermill": {
          "duration": 0.054277,
          "end_time": "2021-08-18T22:48:33.119444",
          "exception": false,
          "start_time": "2021-08-18T22:48:33.065167",
          "status": "completed"
        },
        "tags": [],
        "id": "fc72d761"
      },
      "source": [
        "<a id=\"evaluation\"></a>\n",
        "## Evaluation"
      ],
      "id": "fc72d761"
    },
    {
      "cell_type": "code",
      "metadata": {
        "execution": {
          "iopub.execute_input": "2021-08-18T22:48:33.185165Z",
          "iopub.status.busy": "2021-08-18T22:48:33.184097Z",
          "iopub.status.idle": "2021-08-18T22:48:35.911681Z",
          "shell.execute_reply": "2021-08-18T22:48:35.912820Z",
          "shell.execute_reply.started": "2021-08-18T15:17:01.074622Z"
        },
        "papermill": {
          "duration": 2.763475,
          "end_time": "2021-08-18T22:48:35.913090",
          "exception": false,
          "start_time": "2021-08-18T22:48:33.149615",
          "status": "completed"
        },
        "tags": [],
        "colab": {
          "base_uri": "https://localhost:8080/"
        },
        "id": "e058e84e",
        "outputId": "d2a916a3-36da-458e-8e72-16eb0d747d00"
      },
      "source": [
        "acc = cross_val_score(model, X_test, y_test, cv=5, scoring='accuracy')\n",
        "acc.mean()"
      ],
      "id": "e058e84e",
      "execution_count": null,
      "outputs": [
        {
          "output_type": "execute_result",
          "data": {
            "text/plain": [
              "0.8684343682945361"
            ]
          },
          "metadata": {},
          "execution_count": 16
        }
      ]
    },
    {
      "cell_type": "code",
      "metadata": {
        "execution": {
          "iopub.execute_input": "2021-08-18T22:48:36.044271Z",
          "iopub.status.busy": "2021-08-18T22:48:36.043459Z",
          "iopub.status.idle": "2021-08-18T22:48:36.200072Z",
          "shell.execute_reply": "2021-08-18T22:48:36.200533Z",
          "shell.execute_reply.started": "2021-08-18T15:17:03.245255Z"
        },
        "papermill": {
          "duration": 0.235299,
          "end_time": "2021-08-18T22:48:36.200729",
          "exception": false,
          "start_time": "2021-08-18T22:48:35.965430",
          "status": "completed"
        },
        "tags": [],
        "colab": {
          "base_uri": "https://localhost:8080/",
          "height": 294
        },
        "id": "7174d07c",
        "outputId": "5db9dc92-766d-43fe-d723-93c9c4b22144"
      },
      "source": [
        "fig = plt.figure()\n",
        "fig.suptitle('Model Performance (Accuracy)')\n",
        "ax = fig.add_subplot(111)\n",
        "ax.set_xticklabels(['Logistic Regression'])\n",
        "plt.boxplot(acc)\n",
        "plt.show()"
      ],
      "id": "7174d07c",
      "execution_count": null,
      "outputs": [
        {
          "output_type": "display_data",
          "data": {
            "image/png": "[encoded data removed]",
            "text/plain": [
              "<Figure size 432x288 with 1 Axes>"
            ]
          },
          "metadata": {
            "needs_background": "light"
          }
        }
      ]
    },
    {
      "cell_type": "code",
      "metadata": {
        "execution": {
          "iopub.execute_input": "2021-08-18T22:48:36.267742Z",
          "iopub.status.busy": "2021-08-18T22:48:36.266774Z",
          "iopub.status.idle": "2021-08-18T22:48:36.272126Z",
          "shell.execute_reply": "2021-08-18T22:48:36.272682Z",
          "shell.execute_reply.started": "2021-08-18T15:17:03.461260Z"
        },
        "papermill": {
          "duration": 0.041488,
          "end_time": "2021-08-18T22:48:36.272887",
          "exception": false,
          "start_time": "2021-08-18T22:48:36.231399",
          "status": "completed"
        },
        "tags": [],
        "id": "ffb110c3"
      },
      "source": [
        "def predict(text):\n",
        "    text_preprocessed = pipe_preprocessamento.fit_transform(text)\n",
        "    text_transformed = vectorizer.transform(text_preprocessed).toarray()\n",
        "    pred = model.predict(text_transformed)\n",
        "    return 'positive' if pred[0] == 1 else 'negative'"
      ],
      "id": "ffb110c3",
      "execution_count": null,
      "outputs": []
    },
    {
      "cell_type": "code",
      "metadata": {
        "execution": {
          "iopub.execute_input": "2021-08-18T22:48:36.343671Z",
          "iopub.status.busy": "2021-08-18T22:48:36.342972Z",
          "iopub.status.idle": "2021-08-18T22:48:36.346465Z",
          "shell.execute_reply": "2021-08-18T22:48:36.345839Z",
          "shell.execute_reply.started": "2021-08-18T15:17:03.468803Z"
        },
        "papermill": {
          "duration": 0.042079,
          "end_time": "2021-08-18T22:48:36.346603",
          "exception": false,
          "start_time": "2021-08-18T22:48:36.304524",
          "status": "completed"
        },
        "tags": [],
        "colab": {
          "base_uri": "https://localhost:8080/"
        },
        "id": "e71696ba",
        "outputId": "640bab80-074a-459d-f828-5cfc11862f17"
      },
      "source": [
        "text1 = ['produto de péssima qualidade.']\n",
        "print(predict(text1))"
      ],
      "id": "e71696ba",
      "execution_count": null,
      "outputs": [
        {
          "output_type": "stream",
          "text": [
            "negative\n"
          ],
          "name": "stdout"
        }
      ]
    },
    {
      "cell_type": "code",
      "metadata": {
        "execution": {
          "iopub.execute_input": "2021-08-18T22:48:36.414972Z",
          "iopub.status.busy": "2021-08-18T22:48:36.414309Z",
          "iopub.status.idle": "2021-08-18T22:48:36.418209Z",
          "shell.execute_reply": "2021-08-18T22:48:36.418705Z",
          "shell.execute_reply.started": "2021-08-18T15:17:03.486482Z"
        },
        "papermill": {
          "duration": 0.041446,
          "end_time": "2021-08-18T22:48:36.418890",
          "exception": false,
          "start_time": "2021-08-18T22:48:36.377444",
          "status": "completed"
        },
        "tags": [],
        "colab": {
          "base_uri": "https://localhost:8080/"
        },
        "id": "4ccc8837",
        "outputId": "59aaba2c-aee7-4f34-a772-260385bddcca"
      },
      "source": [
        "text2 = ['Excelente produto, indico']\n",
        "print(predict(text2))"
      ],
      "id": "4ccc8837",
      "execution_count": null,
      "outputs": [
        {
          "output_type": "stream",
          "text": [
            "positive\n"
          ],
          "name": "stdout"
        }
      ]
    },
    {
      "cell_type": "markdown",
      "metadata": {
        "papermill": {
          "duration": 0.030976,
          "end_time": "2021-08-18T22:48:36.481580",
          "exception": false,
          "start_time": "2021-08-18T22:48:36.450604",
          "status": "completed"
        },
        "tags": [],
        "id": "572e79ed"
      },
      "source": [
        "<a id=\"hyperparametes-optimization\"></a>\n",
        "## Hyperparametes Optimization"
      ],
      "id": "572e79ed"
    },
    {
      "cell_type": "code",
      "metadata": {
        "execution": {
          "iopub.execute_input": "2021-08-18T22:48:36.551325Z",
          "iopub.status.busy": "2021-08-18T22:48:36.550596Z",
          "iopub.status.idle": "2021-08-18T22:48:36.554137Z",
          "shell.execute_reply": "2021-08-18T22:48:36.553483Z",
          "shell.execute_reply.started": "2021-08-18T15:24:09.705102Z"
        },
        "papermill": {
          "duration": 0.041151,
          "end_time": "2021-08-18T22:48:36.554278",
          "exception": false,
          "start_time": "2021-08-18T22:48:36.513127",
          "status": "completed"
        },
        "tags": [],
        "id": "2a1fd8c4"
      },
      "source": [
        "space = dict()\n",
        "space['solver'] = ['lbfgs', 'liblinear']\n",
        "space['penalty'] = ['none', 'l1', 'l2']\n",
        "space['C'] = loguniform(1e-5, 100)"
      ],
      "id": "2a1fd8c4",
      "execution_count": null,
      "outputs": []
    },
    {
      "cell_type": "code",
      "metadata": {
        "execution": {
          "iopub.execute_input": "2021-08-18T22:48:36.622588Z",
          "iopub.status.busy": "2021-08-18T22:48:36.621857Z",
          "iopub.status.idle": "2021-08-18T22:48:36.625194Z",
          "shell.execute_reply": "2021-08-18T22:48:36.624509Z",
          "shell.execute_reply.started": "2021-08-18T15:24:09.866973Z"
        },
        "papermill": {
          "duration": 0.039495,
          "end_time": "2021-08-18T22:48:36.625337",
          "exception": false,
          "start_time": "2021-08-18T22:48:36.585842",
          "status": "completed"
        },
        "tags": [],
        "id": "aea1c618"
      },
      "source": [
        "\n",
        "cv = RepeatedStratifiedKFold(n_splits=10, random_state=params.random_state)\n",
        "search = RandomizedSearchCV(model, space, scoring='accuracy', n_jobs=4, cv=cv, random_state=params.random_state)"
      ],
      "id": "aea1c618",
      "execution_count": null,
      "outputs": []
    },
    {
      "cell_type": "code",
      "metadata": {
        "id": "BQ1FHUdOrDqO"
      },
      "source": [
        ""
      ],
      "id": "BQ1FHUdOrDqO",
      "execution_count": null,
      "outputs": []
    }
  ]
}