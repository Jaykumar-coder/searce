{
  "nbformat": 4,
  "nbformat_minor": 0,
  "metadata": {
    "colab": {
      "name": "Untitled3.ipynb",
      "provenance": []
    },
    "kernelspec": {
      "name": "python3",
      "display_name": "Python 3"
    },
    "language_info": {
      "name": "python"
    }
  },
  "cells": [
    {
      "cell_type": "code",
      "metadata": {
        "colab": {
          "resources": {
            "http://localhost:8080/nbextensions/google.colab/files.js": {
              "data": "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",
              "ok": true,
              "headers": [
                [
                  "content-type",
                  "application/javascript"
                ]
              ],
              "status": 200,
              "status_text": ""
            }
          },
          "base_uri": "https://localhost:8080/",
          "height": 72
        },
        "id": "ntu9bY4EtBhL",
        "outputId": "f69732af-00e1-483c-eca4-e4038f045674"
      },
      "source": [
        "from google.colab import files\n",
        "uploaded = files.upload()"
      ],
      "execution_count": null,
      "outputs": [
        {
          "output_type": "display_data",
          "data": {
            "text/html": [
              "\n",
              "     <input type=\"file\" id=\"files-dbbb4f0a-eb01-4a53-b80e-267e13e1c12b\" name=\"files[]\" multiple disabled\n",
              "        style=\"border:none\" />\n",
              "     <output id=\"result-dbbb4f0a-eb01-4a53-b80e-267e13e1c12b\">\n",
              "      Upload widget is only available when the cell has been executed in the\n",
              "      current browser session. Please rerun this cell to enable.\n",
              "      </output>\n",
              "      <script src=\"/nbextensions/google.colab/files.js\"></script> "
            ],
            "text/plain": [
              "<IPython.core.display.HTML object>"
            ]
          },
          "metadata": {
            "tags": []
          }
        },
        {
          "output_type": "stream",
          "text": [
            "Saving voice.csv to voice.csv\n"
          ],
          "name": "stdout"
        }
      ]
    },
    {
      "cell_type": "code",
      "metadata": {
        "id": "ifJOyMh4vGce"
      },
      "source": [
        "import io\n",
        "df = pd.read_csv(io.BytesIO(uploaded['voice.csv']))"
      ],
      "execution_count": null,
      "outputs": []
    },
    {
      "cell_type": "code",
      "metadata": {
        "id": "9JnsOnMvvVaS"
      },
      "source": [
        "import pandas as pd\n",
        "import numpy as np\n",
        "import seaborn as sns\n",
        "import matplotlib.pyplot as plt\n"
      ],
      "execution_count": null,
      "outputs": []
    },
    {
      "cell_type": "code",
      "metadata": {
        "colab": {
          "base_uri": "https://localhost:8080/",
          "height": 224
        },
        "id": "H2Ey9PCtN2Vp",
        "outputId": "2390cff5-1919-4906-e78a-4d6d0e203643"
      },
      "source": [
        "df.head()"
      ],
      "execution_count": null,
      "outputs": [
        {
          "output_type": "execute_result",
          "data": {
            "text/html": [
              "<div>\n",
              "<style scoped>\n",
              "    .dataframe tbody tr th:only-of-type {\n",
              "        vertical-align: middle;\n",
              "    }\n",
              "\n",
              "    .dataframe tbody tr th {\n",
              "        vertical-align: top;\n",
              "    }\n",
              "\n",
              "    .dataframe thead th {\n",
              "        text-align: right;\n",
              "    }\n",
              "</style>\n",
              "<table border=\"1\" class=\"dataframe\">\n",
              "  <thead>\n",
              "    <tr style=\"text-align: right;\">\n",
              "      <th></th>\n",
              "      <th>meanfreq</th>\n",
              "      <th>sd</th>\n",
              "      <th>median</th>\n",
              "      <th>Q25</th>\n",
              "      <th>Q75</th>\n",
              "      <th>IQR</th>\n",
              "      <th>skew</th>\n",
              "      <th>kurt</th>\n",
              "      <th>sp.ent</th>\n",
              "      <th>sfm</th>\n",
              "      <th>mode</th>\n",
              "      <th>centroid</th>\n",
              "      <th>meanfun</th>\n",
              "      <th>minfun</th>\n",
              "      <th>maxfun</th>\n",
              "      <th>meandom</th>\n",
              "      <th>mindom</th>\n",
              "      <th>maxdom</th>\n",
              "      <th>dfrange</th>\n",
              "      <th>modindx</th>\n",
              "      <th>label</th>\n",
              "    </tr>\n",
              "  </thead>\n",
              "  <tbody>\n",
              "    <tr>\n",
              "      <th>0</th>\n",
              "      <td>0.059781</td>\n",
              "      <td>0.064241</td>\n",
              "      <td>0.032027</td>\n",
              "      <td>0.015071</td>\n",
              "      <td>0.090193</td>\n",
              "      <td>0.075122</td>\n",
              "      <td>12.863462</td>\n",
              "      <td>274.402906</td>\n",
              "      <td>0.893369</td>\n",
              "      <td>0.491918</td>\n",
              "      <td>0.000000</td>\n",
              "      <td>0.059781</td>\n",
              "      <td>0.084279</td>\n",
              "      <td>0.015702</td>\n",
              "      <td>0.275862</td>\n",
              "      <td>0.007812</td>\n",
              "      <td>0.007812</td>\n",
              "      <td>0.007812</td>\n",
              "      <td>0.000000</td>\n",
              "      <td>0.000000</td>\n",
              "      <td>male</td>\n",
              "    </tr>\n",
              "    <tr>\n",
              "      <th>1</th>\n",
              "      <td>0.066009</td>\n",
              "      <td>0.067310</td>\n",
              "      <td>0.040229</td>\n",
              "      <td>0.019414</td>\n",
              "      <td>0.092666</td>\n",
              "      <td>0.073252</td>\n",
              "      <td>22.423285</td>\n",
              "      <td>634.613855</td>\n",
              "      <td>0.892193</td>\n",
              "      <td>0.513724</td>\n",
              "      <td>0.000000</td>\n",
              "      <td>0.066009</td>\n",
              "      <td>0.107937</td>\n",
              "      <td>0.015826</td>\n",
              "      <td>0.250000</td>\n",
              "      <td>0.009014</td>\n",
              "      <td>0.007812</td>\n",
              "      <td>0.054688</td>\n",
              "      <td>0.046875</td>\n",
              "      <td>0.052632</td>\n",
              "      <td>male</td>\n",
              "    </tr>\n",
              "    <tr>\n",
              "      <th>2</th>\n",
              "      <td>0.077316</td>\n",
              "      <td>0.083829</td>\n",
              "      <td>0.036718</td>\n",
              "      <td>0.008701</td>\n",
              "      <td>0.131908</td>\n",
              "      <td>0.123207</td>\n",
              "      <td>30.757155</td>\n",
              "      <td>1024.927705</td>\n",
              "      <td>0.846389</td>\n",
              "      <td>0.478905</td>\n",
              "      <td>0.000000</td>\n",
              "      <td>0.077316</td>\n",
              "      <td>0.098706</td>\n",
              "      <td>0.015656</td>\n",
              "      <td>0.271186</td>\n",
              "      <td>0.007990</td>\n",
              "      <td>0.007812</td>\n",
              "      <td>0.015625</td>\n",
              "      <td>0.007812</td>\n",
              "      <td>0.046512</td>\n",
              "      <td>male</td>\n",
              "    </tr>\n",
              "    <tr>\n",
              "      <th>3</th>\n",
              "      <td>0.151228</td>\n",
              "      <td>0.072111</td>\n",
              "      <td>0.158011</td>\n",
              "      <td>0.096582</td>\n",
              "      <td>0.207955</td>\n",
              "      <td>0.111374</td>\n",
              "      <td>1.232831</td>\n",
              "      <td>4.177296</td>\n",
              "      <td>0.963322</td>\n",
              "      <td>0.727232</td>\n",
              "      <td>0.083878</td>\n",
              "      <td>0.151228</td>\n",
              "      <td>0.088965</td>\n",
              "      <td>0.017798</td>\n",
              "      <td>0.250000</td>\n",
              "      <td>0.201497</td>\n",
              "      <td>0.007812</td>\n",
              "      <td>0.562500</td>\n",
              "      <td>0.554688</td>\n",
              "      <td>0.247119</td>\n",
              "      <td>male</td>\n",
              "    </tr>\n",
              "    <tr>\n",
              "      <th>4</th>\n",
              "      <td>0.135120</td>\n",
              "      <td>0.079146</td>\n",
              "      <td>0.124656</td>\n",
              "      <td>0.078720</td>\n",
              "      <td>0.206045</td>\n",
              "      <td>0.127325</td>\n",
              "      <td>1.101174</td>\n",
              "      <td>4.333713</td>\n",
              "      <td>0.971955</td>\n",
              "      <td>0.783568</td>\n",
              "      <td>0.104261</td>\n",
              "      <td>0.135120</td>\n",
              "      <td>0.106398</td>\n",
              "      <td>0.016931</td>\n",
              "      <td>0.266667</td>\n",
              "      <td>0.712812</td>\n",
              "      <td>0.007812</td>\n",
              "      <td>5.484375</td>\n",
              "      <td>5.476562</td>\n",
              "      <td>0.208274</td>\n",
              "      <td>male</td>\n",
              "    </tr>\n",
              "  </tbody>\n",
              "</table>\n",
              "</div>"
            ],
            "text/plain": [
              "   meanfreq        sd    median       Q25  ...    maxdom   dfrange   modindx  label\n",
              "0  0.059781  0.064241  0.032027  0.015071  ...  0.007812  0.000000  0.000000   male\n",
              "1  0.066009  0.067310  0.040229  0.019414  ...  0.054688  0.046875  0.052632   male\n",
              "2  0.077316  0.083829  0.036718  0.008701  ...  0.015625  0.007812  0.046512   male\n",
              "3  0.151228  0.072111  0.158011  0.096582  ...  0.562500  0.554688  0.247119   male\n",
              "4  0.135120  0.079146  0.124656  0.078720  ...  5.484375  5.476562  0.208274   male\n",
              "\n",
              "[5 rows x 21 columns]"
            ]
          },
          "metadata": {
            "tags": []
          },
          "execution_count": 11
        }
      ]
    },
    {
      "cell_type": "code",
      "metadata": {
        "colab": {
          "base_uri": "https://localhost:8080/",
          "height": 689
        },
        "id": "zl03jPQbO6sX",
        "outputId": "67a19a13-696d-4710-adaf-fcfd7c952c88"
      },
      "source": [
        "df.corr()"
      ],
      "execution_count": null,
      "outputs": [
        {
          "output_type": "execute_result",
          "data": {
            "text/html": [
              "<div>\n",
              "<style scoped>\n",
              "    .dataframe tbody tr th:only-of-type {\n",
              "        vertical-align: middle;\n",
              "    }\n",
              "\n",
              "    .dataframe tbody tr th {\n",
              "        vertical-align: top;\n",
              "    }\n",
              "\n",
              "    .dataframe thead th {\n",
              "        text-align: right;\n",
              "    }\n",
              "</style>\n",
              "<table border=\"1\" class=\"dataframe\">\n",
              "  <thead>\n",
              "    <tr style=\"text-align: right;\">\n",
              "      <th></th>\n",
              "      <th>meanfreq</th>\n",
              "      <th>sd</th>\n",
              "      <th>median</th>\n",
              "      <th>Q25</th>\n",
              "      <th>Q75</th>\n",
              "      <th>IQR</th>\n",
              "      <th>skew</th>\n",
              "      <th>kurt</th>\n",
              "      <th>sp.ent</th>\n",
              "      <th>sfm</th>\n",
              "      <th>mode</th>\n",
              "      <th>centroid</th>\n",
              "      <th>meanfun</th>\n",
              "      <th>minfun</th>\n",
              "      <th>maxfun</th>\n",
              "      <th>meandom</th>\n",
              "      <th>mindom</th>\n",
              "      <th>maxdom</th>\n",
              "      <th>dfrange</th>\n",
              "      <th>modindx</th>\n",
              "    </tr>\n",
              "  </thead>\n",
              "  <tbody>\n",
              "    <tr>\n",
              "      <th>meanfreq</th>\n",
              "      <td>1.000000</td>\n",
              "      <td>-0.739039</td>\n",
              "      <td>0.925445</td>\n",
              "      <td>0.911416</td>\n",
              "      <td>0.740997</td>\n",
              "      <td>-0.627605</td>\n",
              "      <td>-0.322327</td>\n",
              "      <td>-0.316036</td>\n",
              "      <td>-0.601203</td>\n",
              "      <td>-0.784332</td>\n",
              "      <td>0.687715</td>\n",
              "      <td>1.000000</td>\n",
              "      <td>0.460844</td>\n",
              "      <td>0.383937</td>\n",
              "      <td>0.274004</td>\n",
              "      <td>0.536666</td>\n",
              "      <td>0.229261</td>\n",
              "      <td>0.519528</td>\n",
              "      <td>0.515570</td>\n",
              "      <td>-0.216979</td>\n",
              "    </tr>\n",
              "    <tr>\n",
              "      <th>sd</th>\n",
              "      <td>-0.739039</td>\n",
              "      <td>1.000000</td>\n",
              "      <td>-0.562603</td>\n",
              "      <td>-0.846931</td>\n",
              "      <td>-0.161076</td>\n",
              "      <td>0.874660</td>\n",
              "      <td>0.314597</td>\n",
              "      <td>0.346241</td>\n",
              "      <td>0.716620</td>\n",
              "      <td>0.838086</td>\n",
              "      <td>-0.529150</td>\n",
              "      <td>-0.739039</td>\n",
              "      <td>-0.466281</td>\n",
              "      <td>-0.345609</td>\n",
              "      <td>-0.129662</td>\n",
              "      <td>-0.482726</td>\n",
              "      <td>-0.357667</td>\n",
              "      <td>-0.482278</td>\n",
              "      <td>-0.475999</td>\n",
              "      <td>0.122660</td>\n",
              "    </tr>\n",
              "    <tr>\n",
              "      <th>median</th>\n",
              "      <td>0.925445</td>\n",
              "      <td>-0.562603</td>\n",
              "      <td>1.000000</td>\n",
              "      <td>0.774922</td>\n",
              "      <td>0.731849</td>\n",
              "      <td>-0.477352</td>\n",
              "      <td>-0.257407</td>\n",
              "      <td>-0.243382</td>\n",
              "      <td>-0.502005</td>\n",
              "      <td>-0.661690</td>\n",
              "      <td>0.677433</td>\n",
              "      <td>0.925445</td>\n",
              "      <td>0.414909</td>\n",
              "      <td>0.337602</td>\n",
              "      <td>0.251328</td>\n",
              "      <td>0.455943</td>\n",
              "      <td>0.191169</td>\n",
              "      <td>0.438919</td>\n",
              "      <td>0.435621</td>\n",
              "      <td>-0.213298</td>\n",
              "    </tr>\n",
              "    <tr>\n",
              "      <th>Q25</th>\n",
              "      <td>0.911416</td>\n",
              "      <td>-0.846931</td>\n",
              "      <td>0.774922</td>\n",
              "      <td>1.000000</td>\n",
              "      <td>0.477140</td>\n",
              "      <td>-0.874189</td>\n",
              "      <td>-0.319475</td>\n",
              "      <td>-0.350182</td>\n",
              "      <td>-0.648126</td>\n",
              "      <td>-0.766875</td>\n",
              "      <td>0.591277</td>\n",
              "      <td>0.911416</td>\n",
              "      <td>0.545035</td>\n",
              "      <td>0.320994</td>\n",
              "      <td>0.199841</td>\n",
              "      <td>0.467403</td>\n",
              "      <td>0.302255</td>\n",
              "      <td>0.459683</td>\n",
              "      <td>0.454394</td>\n",
              "      <td>-0.141377</td>\n",
              "    </tr>\n",
              "    <tr>\n",
              "      <th>Q75</th>\n",
              "      <td>0.740997</td>\n",
              "      <td>-0.161076</td>\n",
              "      <td>0.731849</td>\n",
              "      <td>0.477140</td>\n",
              "      <td>1.000000</td>\n",
              "      <td>0.009636</td>\n",
              "      <td>-0.206339</td>\n",
              "      <td>-0.148881</td>\n",
              "      <td>-0.174905</td>\n",
              "      <td>-0.378198</td>\n",
              "      <td>0.486857</td>\n",
              "      <td>0.740997</td>\n",
              "      <td>0.155091</td>\n",
              "      <td>0.258002</td>\n",
              "      <td>0.285584</td>\n",
              "      <td>0.359181</td>\n",
              "      <td>-0.023750</td>\n",
              "      <td>0.335114</td>\n",
              "      <td>0.335648</td>\n",
              "      <td>-0.216475</td>\n",
              "    </tr>\n",
              "    <tr>\n",
              "      <th>IQR</th>\n",
              "      <td>-0.627605</td>\n",
              "      <td>0.874660</td>\n",
              "      <td>-0.477352</td>\n",
              "      <td>-0.874189</td>\n",
              "      <td>0.009636</td>\n",
              "      <td>1.000000</td>\n",
              "      <td>0.249497</td>\n",
              "      <td>0.316185</td>\n",
              "      <td>0.640813</td>\n",
              "      <td>0.663601</td>\n",
              "      <td>-0.403764</td>\n",
              "      <td>-0.627605</td>\n",
              "      <td>-0.534462</td>\n",
              "      <td>-0.222680</td>\n",
              "      <td>-0.069588</td>\n",
              "      <td>-0.333362</td>\n",
              "      <td>-0.357037</td>\n",
              "      <td>-0.337877</td>\n",
              "      <td>-0.331563</td>\n",
              "      <td>0.041252</td>\n",
              "    </tr>\n",
              "    <tr>\n",
              "      <th>skew</th>\n",
              "      <td>-0.322327</td>\n",
              "      <td>0.314597</td>\n",
              "      <td>-0.257407</td>\n",
              "      <td>-0.319475</td>\n",
              "      <td>-0.206339</td>\n",
              "      <td>0.249497</td>\n",
              "      <td>1.000000</td>\n",
              "      <td>0.977020</td>\n",
              "      <td>-0.195459</td>\n",
              "      <td>0.079694</td>\n",
              "      <td>-0.434859</td>\n",
              "      <td>-0.322327</td>\n",
              "      <td>-0.167668</td>\n",
              "      <td>-0.216954</td>\n",
              "      <td>-0.080861</td>\n",
              "      <td>-0.336848</td>\n",
              "      <td>-0.061608</td>\n",
              "      <td>-0.305651</td>\n",
              "      <td>-0.304640</td>\n",
              "      <td>-0.169325</td>\n",
              "    </tr>\n",
              "    <tr>\n",
              "      <th>kurt</th>\n",
              "      <td>-0.316036</td>\n",
              "      <td>0.346241</td>\n",
              "      <td>-0.243382</td>\n",
              "      <td>-0.350182</td>\n",
              "      <td>-0.148881</td>\n",
              "      <td>0.316185</td>\n",
              "      <td>0.977020</td>\n",
              "      <td>1.000000</td>\n",
              "      <td>-0.127644</td>\n",
              "      <td>0.109884</td>\n",
              "      <td>-0.406722</td>\n",
              "      <td>-0.316036</td>\n",
              "      <td>-0.194560</td>\n",
              "      <td>-0.203201</td>\n",
              "      <td>-0.045667</td>\n",
              "      <td>-0.303234</td>\n",
              "      <td>-0.103313</td>\n",
              "      <td>-0.274500</td>\n",
              "      <td>-0.272729</td>\n",
              "      <td>-0.205539</td>\n",
              "    </tr>\n",
              "    <tr>\n",
              "      <th>sp.ent</th>\n",
              "      <td>-0.601203</td>\n",
              "      <td>0.716620</td>\n",
              "      <td>-0.502005</td>\n",
              "      <td>-0.648126</td>\n",
              "      <td>-0.174905</td>\n",
              "      <td>0.640813</td>\n",
              "      <td>-0.195459</td>\n",
              "      <td>-0.127644</td>\n",
              "      <td>1.000000</td>\n",
              "      <td>0.866411</td>\n",
              "      <td>-0.325298</td>\n",
              "      <td>-0.601203</td>\n",
              "      <td>-0.513194</td>\n",
              "      <td>-0.305826</td>\n",
              "      <td>-0.120738</td>\n",
              "      <td>-0.293562</td>\n",
              "      <td>-0.294869</td>\n",
              "      <td>-0.324253</td>\n",
              "      <td>-0.319054</td>\n",
              "      <td>0.198074</td>\n",
              "    </tr>\n",
              "    <tr>\n",
              "      <th>sfm</th>\n",
              "      <td>-0.784332</td>\n",
              "      <td>0.838086</td>\n",
              "      <td>-0.661690</td>\n",
              "      <td>-0.766875</td>\n",
              "      <td>-0.378198</td>\n",
              "      <td>0.663601</td>\n",
              "      <td>0.079694</td>\n",
              "      <td>0.109884</td>\n",
              "      <td>0.866411</td>\n",
              "      <td>1.000000</td>\n",
              "      <td>-0.485913</td>\n",
              "      <td>-0.784332</td>\n",
              "      <td>-0.421066</td>\n",
              "      <td>-0.362100</td>\n",
              "      <td>-0.192369</td>\n",
              "      <td>-0.428442</td>\n",
              "      <td>-0.289593</td>\n",
              "      <td>-0.436649</td>\n",
              "      <td>-0.431580</td>\n",
              "      <td>0.211477</td>\n",
              "    </tr>\n",
              "    <tr>\n",
              "      <th>mode</th>\n",
              "      <td>0.687715</td>\n",
              "      <td>-0.529150</td>\n",
              "      <td>0.677433</td>\n",
              "      <td>0.591277</td>\n",
              "      <td>0.486857</td>\n",
              "      <td>-0.403764</td>\n",
              "      <td>-0.434859</td>\n",
              "      <td>-0.406722</td>\n",
              "      <td>-0.325298</td>\n",
              "      <td>-0.485913</td>\n",
              "      <td>1.000000</td>\n",
              "      <td>0.687715</td>\n",
              "      <td>0.324771</td>\n",
              "      <td>0.385467</td>\n",
              "      <td>0.172329</td>\n",
              "      <td>0.491479</td>\n",
              "      <td>0.198150</td>\n",
              "      <td>0.477187</td>\n",
              "      <td>0.473775</td>\n",
              "      <td>-0.182344</td>\n",
              "    </tr>\n",
              "    <tr>\n",
              "      <th>centroid</th>\n",
              "      <td>1.000000</td>\n",
              "      <td>-0.739039</td>\n",
              "      <td>0.925445</td>\n",
              "      <td>0.911416</td>\n",
              "      <td>0.740997</td>\n",
              "      <td>-0.627605</td>\n",
              "      <td>-0.322327</td>\n",
              "      <td>-0.316036</td>\n",
              "      <td>-0.601203</td>\n",
              "      <td>-0.784332</td>\n",
              "      <td>0.687715</td>\n",
              "      <td>1.000000</td>\n",
              "      <td>0.460844</td>\n",
              "      <td>0.383937</td>\n",
              "      <td>0.274004</td>\n",
              "      <td>0.536666</td>\n",
              "      <td>0.229261</td>\n",
              "      <td>0.519528</td>\n",
              "      <td>0.515570</td>\n",
              "      <td>-0.216979</td>\n",
              "    </tr>\n",
              "    <tr>\n",
              "      <th>meanfun</th>\n",
              "      <td>0.460844</td>\n",
              "      <td>-0.466281</td>\n",
              "      <td>0.414909</td>\n",
              "      <td>0.545035</td>\n",
              "      <td>0.155091</td>\n",
              "      <td>-0.534462</td>\n",
              "      <td>-0.167668</td>\n",
              "      <td>-0.194560</td>\n",
              "      <td>-0.513194</td>\n",
              "      <td>-0.421066</td>\n",
              "      <td>0.324771</td>\n",
              "      <td>0.460844</td>\n",
              "      <td>1.000000</td>\n",
              "      <td>0.339387</td>\n",
              "      <td>0.311950</td>\n",
              "      <td>0.270840</td>\n",
              "      <td>0.162163</td>\n",
              "      <td>0.277982</td>\n",
              "      <td>0.275154</td>\n",
              "      <td>-0.054858</td>\n",
              "    </tr>\n",
              "    <tr>\n",
              "      <th>minfun</th>\n",
              "      <td>0.383937</td>\n",
              "      <td>-0.345609</td>\n",
              "      <td>0.337602</td>\n",
              "      <td>0.320994</td>\n",
              "      <td>0.258002</td>\n",
              "      <td>-0.222680</td>\n",
              "      <td>-0.216954</td>\n",
              "      <td>-0.203201</td>\n",
              "      <td>-0.305826</td>\n",
              "      <td>-0.362100</td>\n",
              "      <td>0.385467</td>\n",
              "      <td>0.383937</td>\n",
              "      <td>0.339387</td>\n",
              "      <td>1.000000</td>\n",
              "      <td>0.213987</td>\n",
              "      <td>0.375979</td>\n",
              "      <td>0.082015</td>\n",
              "      <td>0.317860</td>\n",
              "      <td>0.316486</td>\n",
              "      <td>0.002042</td>\n",
              "    </tr>\n",
              "    <tr>\n",
              "      <th>maxfun</th>\n",
              "      <td>0.274004</td>\n",
              "      <td>-0.129662</td>\n",
              "      <td>0.251328</td>\n",
              "      <td>0.199841</td>\n",
              "      <td>0.285584</td>\n",
              "      <td>-0.069588</td>\n",
              "      <td>-0.080861</td>\n",
              "      <td>-0.045667</td>\n",
              "      <td>-0.120738</td>\n",
              "      <td>-0.192369</td>\n",
              "      <td>0.172329</td>\n",
              "      <td>0.274004</td>\n",
              "      <td>0.311950</td>\n",
              "      <td>0.213987</td>\n",
              "      <td>1.000000</td>\n",
              "      <td>0.337553</td>\n",
              "      <td>-0.243426</td>\n",
              "      <td>0.355390</td>\n",
              "      <td>0.359880</td>\n",
              "      <td>-0.363029</td>\n",
              "    </tr>\n",
              "    <tr>\n",
              "      <th>meandom</th>\n",
              "      <td>0.536666</td>\n",
              "      <td>-0.482726</td>\n",
              "      <td>0.455943</td>\n",
              "      <td>0.467403</td>\n",
              "      <td>0.359181</td>\n",
              "      <td>-0.333362</td>\n",
              "      <td>-0.336848</td>\n",
              "      <td>-0.303234</td>\n",
              "      <td>-0.293562</td>\n",
              "      <td>-0.428442</td>\n",
              "      <td>0.491479</td>\n",
              "      <td>0.536666</td>\n",
              "      <td>0.270840</td>\n",
              "      <td>0.375979</td>\n",
              "      <td>0.337553</td>\n",
              "      <td>1.000000</td>\n",
              "      <td>0.099656</td>\n",
              "      <td>0.812838</td>\n",
              "      <td>0.811304</td>\n",
              "      <td>-0.180954</td>\n",
              "    </tr>\n",
              "    <tr>\n",
              "      <th>mindom</th>\n",
              "      <td>0.229261</td>\n",
              "      <td>-0.357667</td>\n",
              "      <td>0.191169</td>\n",
              "      <td>0.302255</td>\n",
              "      <td>-0.023750</td>\n",
              "      <td>-0.357037</td>\n",
              "      <td>-0.061608</td>\n",
              "      <td>-0.103313</td>\n",
              "      <td>-0.294869</td>\n",
              "      <td>-0.289593</td>\n",
              "      <td>0.198150</td>\n",
              "      <td>0.229261</td>\n",
              "      <td>0.162163</td>\n",
              "      <td>0.082015</td>\n",
              "      <td>-0.243426</td>\n",
              "      <td>0.099656</td>\n",
              "      <td>1.000000</td>\n",
              "      <td>0.026640</td>\n",
              "      <td>0.008666</td>\n",
              "      <td>0.200212</td>\n",
              "    </tr>\n",
              "    <tr>\n",
              "      <th>maxdom</th>\n",
              "      <td>0.519528</td>\n",
              "      <td>-0.482278</td>\n",
              "      <td>0.438919</td>\n",
              "      <td>0.459683</td>\n",
              "      <td>0.335114</td>\n",
              "      <td>-0.337877</td>\n",
              "      <td>-0.305651</td>\n",
              "      <td>-0.274500</td>\n",
              "      <td>-0.324253</td>\n",
              "      <td>-0.436649</td>\n",
              "      <td>0.477187</td>\n",
              "      <td>0.519528</td>\n",
              "      <td>0.277982</td>\n",
              "      <td>0.317860</td>\n",
              "      <td>0.355390</td>\n",
              "      <td>0.812838</td>\n",
              "      <td>0.026640</td>\n",
              "      <td>1.000000</td>\n",
              "      <td>0.999838</td>\n",
              "      <td>-0.425531</td>\n",
              "    </tr>\n",
              "    <tr>\n",
              "      <th>dfrange</th>\n",
              "      <td>0.515570</td>\n",
              "      <td>-0.475999</td>\n",
              "      <td>0.435621</td>\n",
              "      <td>0.454394</td>\n",
              "      <td>0.335648</td>\n",
              "      <td>-0.331563</td>\n",
              "      <td>-0.304640</td>\n",
              "      <td>-0.272729</td>\n",
              "      <td>-0.319054</td>\n",
              "      <td>-0.431580</td>\n",
              "      <td>0.473775</td>\n",
              "      <td>0.515570</td>\n",
              "      <td>0.275154</td>\n",
              "      <td>0.316486</td>\n",
              "      <td>0.359880</td>\n",
              "      <td>0.811304</td>\n",
              "      <td>0.008666</td>\n",
              "      <td>0.999838</td>\n",
              "      <td>1.000000</td>\n",
              "      <td>-0.429266</td>\n",
              "    </tr>\n",
              "    <tr>\n",
              "      <th>modindx</th>\n",
              "      <td>-0.216979</td>\n",
              "      <td>0.122660</td>\n",
              "      <td>-0.213298</td>\n",
              "      <td>-0.141377</td>\n",
              "      <td>-0.216475</td>\n",
              "      <td>0.041252</td>\n",
              "      <td>-0.169325</td>\n",
              "      <td>-0.205539</td>\n",
              "      <td>0.198074</td>\n",
              "      <td>0.211477</td>\n",
              "      <td>-0.182344</td>\n",
              "      <td>-0.216979</td>\n",
              "      <td>-0.054858</td>\n",
              "      <td>0.002042</td>\n",
              "      <td>-0.363029</td>\n",
              "      <td>-0.180954</td>\n",
              "      <td>0.200212</td>\n",
              "      <td>-0.425531</td>\n",
              "      <td>-0.429266</td>\n",
              "      <td>1.000000</td>\n",
              "    </tr>\n",
              "  </tbody>\n",
              "</table>\n",
              "</div>"
            ],
            "text/plain": [
              "          meanfreq        sd    median  ...    maxdom   dfrange   modindx\n",
              "meanfreq  1.000000 -0.739039  0.925445  ...  0.519528  0.515570 -0.216979\n",
              "sd       -0.739039  1.000000 -0.562603  ... -0.482278 -0.475999  0.122660\n",
              "median    0.925445 -0.562603  1.000000  ...  0.438919  0.435621 -0.213298\n",
              "Q25       0.911416 -0.846931  0.774922  ...  0.459683  0.454394 -0.141377\n",
              "Q75       0.740997 -0.161076  0.731849  ...  0.335114  0.335648 -0.216475\n",
              "IQR      -0.627605  0.874660 -0.477352  ... -0.337877 -0.331563  0.041252\n",
              "skew     -0.322327  0.314597 -0.257407  ... -0.305651 -0.304640 -0.169325\n",
              "kurt     -0.316036  0.346241 -0.243382  ... -0.274500 -0.272729 -0.205539\n",
              "sp.ent   -0.601203  0.716620 -0.502005  ... -0.324253 -0.319054  0.198074\n",
              "sfm      -0.784332  0.838086 -0.661690  ... -0.436649 -0.431580  0.211477\n",
              "mode      0.687715 -0.529150  0.677433  ...  0.477187  0.473775 -0.182344\n",
              "centroid  1.000000 -0.739039  0.925445  ...  0.519528  0.515570 -0.216979\n",
              "meanfun   0.460844 -0.466281  0.414909  ...  0.277982  0.275154 -0.054858\n",
              "minfun    0.383937 -0.345609  0.337602  ...  0.317860  0.316486  0.002042\n",
              "maxfun    0.274004 -0.129662  0.251328  ...  0.355390  0.359880 -0.363029\n",
              "meandom   0.536666 -0.482726  0.455943  ...  0.812838  0.811304 -0.180954\n",
              "mindom    0.229261 -0.357667  0.191169  ...  0.026640  0.008666  0.200212\n",
              "maxdom    0.519528 -0.482278  0.438919  ...  1.000000  0.999838 -0.425531\n",
              "dfrange   0.515570 -0.475999  0.435621  ...  0.999838  1.000000 -0.429266\n",
              "modindx  -0.216979  0.122660 -0.213298  ... -0.425531 -0.429266  1.000000\n",
              "\n",
              "[20 rows x 20 columns]"
            ]
          },
          "metadata": {
            "tags": []
          },
          "execution_count": 12
        }
      ]
    },
    {
      "cell_type": "code",
      "metadata": {
        "colab": {
          "base_uri": "https://localhost:8080/"
        },
        "id": "3SKJfCnAPCXe",
        "outputId": "df3f811e-f776-4ad5-9da8-eab4d334bd4c"
      },
      "source": [
        "df.shape"
      ],
      "execution_count": null,
      "outputs": [
        {
          "output_type": "execute_result",
          "data": {
            "text/plain": [
              "(3168, 21)"
            ]
          },
          "metadata": {
            "tags": []
          },
          "execution_count": 13
        }
      ]
    },
    {
      "cell_type": "code",
      "metadata": {
        "colab": {
          "base_uri": "https://localhost:8080/"
        },
        "id": "r_gqLExfPGwj",
        "outputId": "791d74fa-f263-4426-9b54-e997c0c9af1d"
      },
      "source": [
        "df.isnull().sum()"
      ],
      "execution_count": null,
      "outputs": [
        {
          "output_type": "execute_result",
          "data": {
            "text/plain": [
              "meanfreq    0\n",
              "sd          0\n",
              "median      0\n",
              "Q25         0\n",
              "Q75         0\n",
              "IQR         0\n",
              "skew        0\n",
              "kurt        0\n",
              "sp.ent      0\n",
              "sfm         0\n",
              "mode        0\n",
              "centroid    0\n",
              "meanfun     0\n",
              "minfun      0\n",
              "maxfun      0\n",
              "meandom     0\n",
              "mindom      0\n",
              "maxdom      0\n",
              "dfrange     0\n",
              "modindx     0\n",
              "label       0\n",
              "dtype: int64"
            ]
          },
          "metadata": {
            "tags": []
          },
          "execution_count": 14
        }
      ]
    },
    {
      "cell_type": "code",
      "metadata": {
        "colab": {
          "base_uri": "https://localhost:8080/"
        },
        "id": "Q3ORVw6MPLCW",
        "outputId": "c8f664c1-36f0-47cd-f6a6-b2af3f1258f2"
      },
      "source": [
        "print(\"Total number of labels: {}\".format(df.shape[0]))\n",
        "print(\"Number of male: {}\".format(df[df.label == 'male'].shape[0]))\n",
        "print(\"Number of female: {}\".format(df[df.label == 'female'].shape[0]))"
      ],
      "execution_count": null,
      "outputs": [
        {
          "output_type": "stream",
          "text": [
            "Total number of labels: 3168\n",
            "Number of male: 1584\n",
            "Number of female: 1584\n"
          ],
          "name": "stdout"
        }
      ]
    },
    {
      "cell_type": "code",
      "metadata": {
        "colab": {
          "base_uri": "https://localhost:8080/",
          "height": 224
        },
        "id": "ys0DGwlgPQ3X",
        "outputId": "addebe7d-f8ad-430a-f1dc-17347627355b"
      },
      "source": [
        "X=df.iloc[:, :-1]\n",
        "X.head()"
      ],
      "execution_count": null,
      "outputs": [
        {
          "output_type": "execute_result",
          "data": {
            "text/html": [
              "<div>\n",
              "<style scoped>\n",
              "    .dataframe tbody tr th:only-of-type {\n",
              "        vertical-align: middle;\n",
              "    }\n",
              "\n",
              "    .dataframe tbody tr th {\n",
              "        vertical-align: top;\n",
              "    }\n",
              "\n",
              "    .dataframe thead th {\n",
              "        text-align: right;\n",
              "    }\n",
              "</style>\n",
              "<table border=\"1\" class=\"dataframe\">\n",
              "  <thead>\n",
              "    <tr style=\"text-align: right;\">\n",
              "      <th></th>\n",
              "      <th>meanfreq</th>\n",
              "      <th>sd</th>\n",
              "      <th>median</th>\n",
              "      <th>Q25</th>\n",
              "      <th>Q75</th>\n",
              "      <th>IQR</th>\n",
              "      <th>skew</th>\n",
              "      <th>kurt</th>\n",
              "      <th>sp.ent</th>\n",
              "      <th>sfm</th>\n",
              "      <th>mode</th>\n",
              "      <th>centroid</th>\n",
              "      <th>meanfun</th>\n",
              "      <th>minfun</th>\n",
              "      <th>maxfun</th>\n",
              "      <th>meandom</th>\n",
              "      <th>mindom</th>\n",
              "      <th>maxdom</th>\n",
              "      <th>dfrange</th>\n",
              "      <th>modindx</th>\n",
              "    </tr>\n",
              "  </thead>\n",
              "  <tbody>\n",
              "    <tr>\n",
              "      <th>0</th>\n",
              "      <td>0.059781</td>\n",
              "      <td>0.064241</td>\n",
              "      <td>0.032027</td>\n",
              "      <td>0.015071</td>\n",
              "      <td>0.090193</td>\n",
              "      <td>0.075122</td>\n",
              "      <td>12.863462</td>\n",
              "      <td>274.402906</td>\n",
              "      <td>0.893369</td>\n",
              "      <td>0.491918</td>\n",
              "      <td>0.000000</td>\n",
              "      <td>0.059781</td>\n",
              "      <td>0.084279</td>\n",
              "      <td>0.015702</td>\n",
              "      <td>0.275862</td>\n",
              "      <td>0.007812</td>\n",
              "      <td>0.007812</td>\n",
              "      <td>0.007812</td>\n",
              "      <td>0.000000</td>\n",
              "      <td>0.000000</td>\n",
              "    </tr>\n",
              "    <tr>\n",
              "      <th>1</th>\n",
              "      <td>0.066009</td>\n",
              "      <td>0.067310</td>\n",
              "      <td>0.040229</td>\n",
              "      <td>0.019414</td>\n",
              "      <td>0.092666</td>\n",
              "      <td>0.073252</td>\n",
              "      <td>22.423285</td>\n",
              "      <td>634.613855</td>\n",
              "      <td>0.892193</td>\n",
              "      <td>0.513724</td>\n",
              "      <td>0.000000</td>\n",
              "      <td>0.066009</td>\n",
              "      <td>0.107937</td>\n",
              "      <td>0.015826</td>\n",
              "      <td>0.250000</td>\n",
              "      <td>0.009014</td>\n",
              "      <td>0.007812</td>\n",
              "      <td>0.054688</td>\n",
              "      <td>0.046875</td>\n",
              "      <td>0.052632</td>\n",
              "    </tr>\n",
              "    <tr>\n",
              "      <th>2</th>\n",
              "      <td>0.077316</td>\n",
              "      <td>0.083829</td>\n",
              "      <td>0.036718</td>\n",
              "      <td>0.008701</td>\n",
              "      <td>0.131908</td>\n",
              "      <td>0.123207</td>\n",
              "      <td>30.757155</td>\n",
              "      <td>1024.927705</td>\n",
              "      <td>0.846389</td>\n",
              "      <td>0.478905</td>\n",
              "      <td>0.000000</td>\n",
              "      <td>0.077316</td>\n",
              "      <td>0.098706</td>\n",
              "      <td>0.015656</td>\n",
              "      <td>0.271186</td>\n",
              "      <td>0.007990</td>\n",
              "      <td>0.007812</td>\n",
              "      <td>0.015625</td>\n",
              "      <td>0.007812</td>\n",
              "      <td>0.046512</td>\n",
              "    </tr>\n",
              "    <tr>\n",
              "      <th>3</th>\n",
              "      <td>0.151228</td>\n",
              "      <td>0.072111</td>\n",
              "      <td>0.158011</td>\n",
              "      <td>0.096582</td>\n",
              "      <td>0.207955</td>\n",
              "      <td>0.111374</td>\n",
              "      <td>1.232831</td>\n",
              "      <td>4.177296</td>\n",
              "      <td>0.963322</td>\n",
              "      <td>0.727232</td>\n",
              "      <td>0.083878</td>\n",
              "      <td>0.151228</td>\n",
              "      <td>0.088965</td>\n",
              "      <td>0.017798</td>\n",
              "      <td>0.250000</td>\n",
              "      <td>0.201497</td>\n",
              "      <td>0.007812</td>\n",
              "      <td>0.562500</td>\n",
              "      <td>0.554688</td>\n",
              "      <td>0.247119</td>\n",
              "    </tr>\n",
              "    <tr>\n",
              "      <th>4</th>\n",
              "      <td>0.135120</td>\n",
              "      <td>0.079146</td>\n",
              "      <td>0.124656</td>\n",
              "      <td>0.078720</td>\n",
              "      <td>0.206045</td>\n",
              "      <td>0.127325</td>\n",
              "      <td>1.101174</td>\n",
              "      <td>4.333713</td>\n",
              "      <td>0.971955</td>\n",
              "      <td>0.783568</td>\n",
              "      <td>0.104261</td>\n",
              "      <td>0.135120</td>\n",
              "      <td>0.106398</td>\n",
              "      <td>0.016931</td>\n",
              "      <td>0.266667</td>\n",
              "      <td>0.712812</td>\n",
              "      <td>0.007812</td>\n",
              "      <td>5.484375</td>\n",
              "      <td>5.476562</td>\n",
              "      <td>0.208274</td>\n",
              "    </tr>\n",
              "  </tbody>\n",
              "</table>\n",
              "</div>"
            ],
            "text/plain": [
              "   meanfreq        sd    median  ...    maxdom   dfrange   modindx\n",
              "0  0.059781  0.064241  0.032027  ...  0.007812  0.000000  0.000000\n",
              "1  0.066009  0.067310  0.040229  ...  0.054688  0.046875  0.052632\n",
              "2  0.077316  0.083829  0.036718  ...  0.015625  0.007812  0.046512\n",
              "3  0.151228  0.072111  0.158011  ...  0.562500  0.554688  0.247119\n",
              "4  0.135120  0.079146  0.124656  ...  5.484375  5.476562  0.208274\n",
              "\n",
              "[5 rows x 20 columns]"
            ]
          },
          "metadata": {
            "tags": []
          },
          "execution_count": 16
        }
      ]
    },
    {
      "cell_type": "code",
      "metadata": {
        "id": "SsKfoPoEPua4"
      },
      "source": [
        "from sklearn.preprocessing import LabelEncoder\n",
        "y=df.iloc[:,-1]\n",
        "\n",
        "# Encode label category\n",
        "# male -> 1\n",
        "# female -> 0\n",
        "\n"
      ],
      "execution_count": null,
      "outputs": []
    },
    {
      "cell_type": "code",
      "metadata": {
        "colab": {
          "base_uri": "https://localhost:8080/"
        },
        "id": "NHmwTQkuQfNy",
        "outputId": "2fb9523d-d59d-4c67-8170-c834a8a41dd7"
      },
      "source": [
        "y"
      ],
      "execution_count": null,
      "outputs": [
        {
          "output_type": "execute_result",
          "data": {
            "text/plain": [
              "0         male\n",
              "1         male\n",
              "2         male\n",
              "3         male\n",
              "4         male\n",
              "         ...  \n",
              "3163    female\n",
              "3164    female\n",
              "3165    female\n",
              "3166    female\n",
              "3167    female\n",
              "Name: label, Length: 3168, dtype: object"
            ]
          },
          "metadata": {
            "tags": []
          },
          "execution_count": 30
        }
      ]
    },
    {
      "cell_type": "code",
      "metadata": {
        "colab": {
          "base_uri": "https://localhost:8080/"
        },
        "id": "rQV3vmDcP8PF",
        "outputId": "012db8e5-07a5-4522-ef60-972bddd57a61"
      },
      "source": [
        "gender_encoder = LabelEncoder()\n",
        "y = gender_encoder.fit_transform(y)\n",
        "y"
      ],
      "execution_count": null,
      "outputs": [
        {
          "output_type": "execute_result",
          "data": {
            "text/plain": [
              "array([1, 1, 1, ..., 0, 0, 0])"
            ]
          },
          "metadata": {
            "tags": []
          },
          "execution_count": 31
        }
      ]
    },
    {
      "cell_type": "code",
      "metadata": {
        "id": "zR5ZNY1IQFCJ"
      },
      "source": [
        "# Scale the data to be between -1 and 1\n",
        "from sklearn.preprocessing import StandardScaler\n",
        "scaler = StandardScaler()\n",
        "scaler.fit(X)\n",
        "X = scaler.transform(X)"
      ],
      "execution_count": null,
      "outputs": []
    },
    {
      "cell_type": "code",
      "metadata": {
        "id": "0AJlBR0jRHR3"
      },
      "source": [
        "from sklearn.model_selection import train_test_split\n",
        "X_train, X_test, y_train, y_test = train_test_split(X, y, test_size=0.2, random_state=1)"
      ],
      "execution_count": null,
      "outputs": []
    },
    {
      "cell_type": "code",
      "metadata": {
        "colab": {
          "base_uri": "https://localhost:8080/"
        },
        "id": "UyyZDj9nRKug",
        "outputId": "1a0ea1e0-a964-484a-ec39-52f4146827d9"
      },
      "source": [
        "from sklearn.svm import SVC\n",
        "from sklearn import metrics\n",
        "svc=SVC() #Default hyperparameters\n",
        "svc.fit(X_train,y_train)\n",
        "y_pred=svc.predict(X_test)\n",
        "print('Accuracy Score:')\n",
        "print(metrics.accuracy_score(y_test,y_pred))"
      ],
      "execution_count": null,
      "outputs": [
        {
          "output_type": "stream",
          "text": [
            "Accuracy Score:\n",
            "0.9763406940063092\n"
          ],
          "name": "stdout"
        }
      ]
    },
    {
      "cell_type": "code",
      "metadata": {
        "colab": {
          "base_uri": "https://localhost:8080/"
        },
        "id": "39f7simpRQwV",
        "outputId": "8f494dab-4244-4eff-fa18-afd18fca5343"
      },
      "source": [
        "svc=SVC(kernel='linear')\n",
        "svc.fit(X_train,y_train)\n",
        "y_pred=svc.predict(X_test)\n",
        "print('Accuracy Score:')\n",
        "print(metrics.accuracy_score(y_test,y_pred))"
      ],
      "execution_count": null,
      "outputs": [
        {
          "output_type": "stream",
          "text": [
            "Accuracy Score:\n",
            "0.9779179810725552\n"
          ],
          "name": "stdout"
        }
      ]
    },
    {
      "cell_type": "code",
      "metadata": {
        "colab": {
          "base_uri": "https://localhost:8080/"
        },
        "id": "1v-1Jab5Ra9j",
        "outputId": "84d364ed-3b10-45f3-b7de-6e722eb956a6"
      },
      "source": [
        "svc=SVC(kernel='rbf')\n",
        "svc.fit(X_train,y_train)\n",
        "y_pred=svc.predict(X_test)\n",
        "print('Accuracy Score:')\n",
        "print(metrics.accuracy_score(y_test,y_pred))"
      ],
      "execution_count": null,
      "outputs": [
        {
          "output_type": "stream",
          "text": [
            "Accuracy Score:\n",
            "0.9763406940063092\n"
          ],
          "name": "stdout"
        }
      ]
    },
    {
      "cell_type": "code",
      "metadata": {
        "colab": {
          "base_uri": "https://localhost:8080/"
        },
        "id": "wk9MnJrURjZq",
        "outputId": "717c02e4-545a-45d4-93e3-ede15a3f0907"
      },
      "source": [
        "svc=SVC(kernel='poly')\n",
        "svc.fit(X_train,y_train)\n",
        "y_pred=svc.predict(X_test)\n",
        "print('Accuracy Score:')\n",
        "print(metrics.accuracy_score(y_test,y_pred))"
      ],
      "execution_count": null,
      "outputs": [
        {
          "output_type": "stream",
          "text": [
            "Accuracy Score:\n",
            "0.9589905362776026\n"
          ],
          "name": "stdout"
        }
      ]
    },
    {
      "cell_type": "code",
      "metadata": {
        "colab": {
          "base_uri": "https://localhost:8080/"
        },
        "id": "5UB6upycR4ol",
        "outputId": "1a64248a-7916-4282-b45f-689c28d0c2d3"
      },
      "source": [
        "import sklearn\n",
        "from sklearn.model_selection import cross_val_score\n",
        "svc=SVC(kernel='linear')\n",
        "scores = cross_val_score(svc, X, y, cv=10, scoring='accuracy') #cv is cross validation\n",
        "print(scores)"
      ],
      "execution_count": null,
      "outputs": [
        {
          "output_type": "stream",
          "text": [
            "[0.91167192 0.97160883 0.97160883 0.97791798 0.95899054 0.9873817\n",
            " 0.99369085 0.97791798 0.95253165 0.99367089]\n"
          ],
          "name": "stdout"
        }
      ]
    },
    {
      "cell_type": "code",
      "metadata": {
        "colab": {
          "base_uri": "https://localhost:8080/"
        },
        "id": "qFofFewxSvdR",
        "outputId": "15b4acfd-1131-429f-bf71-3b5107db0922"
      },
      "source": [
        "from sklearn.model_selection import cross_val_score\n",
        "svc=SVC(kernel='rbf')\n",
        "scores = cross_val_score(svc, X, y, cv=10, scoring='accuracy') #cv is cross validation\n",
        "print(scores)"
      ],
      "execution_count": null,
      "outputs": [
        {
          "output_type": "stream",
          "text": [
            "[0.93375394 0.95583596 0.96845426 0.96214511 0.96529968 0.99684543\n",
            " 0.99053628 0.98422713 0.91455696 0.99367089]\n"
          ],
          "name": "stdout"
        }
      ]
    },
    {
      "cell_type": "code",
      "metadata": {
        "colab": {
          "base_uri": "https://localhost:8080/"
        },
        "id": "_V4yxXm0TjLr",
        "outputId": "47a4908f-1dd4-40bc-df84-ba7904bf70d4"
      },
      "source": [
        "from sklearn.model_selection import cross_val_score\n",
        "svc=SVC(kernel='poly')\n",
        "scores = cross_val_score(svc, X, y, cv=10, scoring='accuracy') #cv is cross validation\n",
        "print(scores)"
      ],
      "execution_count": null,
      "outputs": [
        {
          "output_type": "stream",
          "text": [
            "[0.89274448 0.94952681 0.93059937 0.92744479 0.94952681 0.99369085\n",
            " 0.98422713 0.96529968 0.87974684 0.9778481 ]\n"
          ],
          "name": "stdout"
        }
      ]
    },
    {
      "cell_type": "code",
      "metadata": {
        "colab": {
          "base_uri": "https://localhost:8080/"
        },
        "id": "E3joCj2TTwwr",
        "outputId": "8f23bac9-de70-4b0e-f1c0-cbac6f7cf188"
      },
      "source": [
        "C_range=list(range(1,26))\n",
        "acc_score=[]\n",
        "for c in C_range:\n",
        "    svc = SVC(kernel='linear', C=c)\n",
        "    scores = cross_val_score(svc, X, y, cv=10, scoring='accuracy')\n",
        "    acc_score.append(scores.mean())\n",
        "print(acc_score)   "
      ],
      "execution_count": null,
      "outputs": [
        {
          "output_type": "stream",
          "text": [
            "[0.9696991175178692, 0.969068202691371, 0.969068202691371, 0.969068202691371, 0.9693836601046201, 0.9693836601046201, 0.969068202691371, 0.9687527452781215, 0.9684372878648724, 0.9684372878648724, 0.9684372878648724, 0.9684372878648724, 0.9681208321686698, 0.9681208321686698, 0.9681208321686698, 0.9681208321686698, 0.9678043764724673, 0.9678043764724673, 0.9678043764724673, 0.9678043764724673, 0.9681208321686698, 0.968436289581919, 0.968436289581919, 0.9681198338857164, 0.9681198338857164]\n"
          ],
          "name": "stdout"
        }
      ]
    },
    {
      "cell_type": "code",
      "metadata": {
        "colab": {
          "base_uri": "https://localhost:8080/",
          "height": 296
        },
        "id": "M4a6FPzGT3lE",
        "outputId": "b82ac38e-88d6-4126-a3ad-1f807c46b916"
      },
      "source": [
        "import matplotlib.pyplot as plt\n",
        "%matplotlib inline\n",
        "\n",
        "\n",
        "C_values=list(range(1,26))\n",
        "# plot the value of C for SVM (x-axis) versus the cross-validated accuracy (y-axis)\n",
        "plt.plot(C_values,acc_score)\n",
        "plt.xticks(np.arange(0,27,2))\n",
        "plt.xlabel('Value of C for SVC')\n",
        "plt.ylabel('Cross-Validated Accuracy')"
      ],
      "execution_count": null,
      "outputs": [
        {
          "output_type": "execute_result",
          "data": {
            "text/plain": [
              "Text(0, 0.5, 'Cross-Validated Accuracy')"
            ]
          },
          "metadata": {
            "tags": []
          },
          "execution_count": 49
        },
        {
          "output_type": "display_data",
          "data": {
            "image/png": "[encoded data removed]",
            "text/plain": [
              "<Figure size 432x288 with 1 Axes>"
            ]
          },
          "metadata": {
            "tags": [],
            "needs_background": "light"
          }
        }
      ]
    },
    {
      "cell_type": "code",
      "metadata": {
        "colab": {
          "base_uri": "https://localhost:8080/"
        },
        "id": "i2bgT-tlT3hN",
        "outputId": "53a0c2e3-6e1d-4ebe-8438-91fef26b82cd"
      },
      "source": [
        "C_range=list(np.arange(0.1,6,0.1))\n",
        "acc_score=[]\n",
        "for c in C_range:\n",
        "    svc = SVC(kernel='linear', C=c)\n",
        "    scores = cross_val_score(svc, X, y, cv=10, scoring='accuracy')\n",
        "    acc_score.append(scores.mean())\n",
        "print(acc_score)    "
      ],
      "execution_count": null,
      "outputs": [
        {
          "output_type": "stream",
          "text": [
            "[0.9706474863235236, 0.9693846583875733, 0.9693836601046201, 0.9693836601046201, 0.9696991175178692, 0.9696991175178692, 0.9693836601046201, 0.9696981192349158, 0.9693826618216667, 0.9696991175178692, 0.9696991175178692, 0.9696991175178692, 0.9696991175178692, 0.9690672044084174, 0.9693836601046201, 0.9693836601046201, 0.9693836601046201, 0.9693836601046201, 0.969068202691371, 0.969068202691371, 0.9693836601046201, 0.9693836601046201, 0.969068202691371, 0.969068202691371, 0.969068202691371, 0.969068202691371, 0.969068202691371, 0.969068202691371, 0.969068202691371, 0.969068202691371, 0.969068202691371, 0.969068202691371, 0.969068202691371, 0.969068202691371, 0.969068202691371, 0.969068202691371, 0.969068202691371, 0.969068202691371, 0.969068202691371, 0.969068202691371, 0.969068202691371, 0.969068202691371, 0.969068202691371, 0.969068202691371, 0.969068202691371, 0.969068202691371, 0.9693836601046201, 0.9693836601046201, 0.9693836601046201, 0.9693836601046201, 0.9693836601046201, 0.969068202691371, 0.969068202691371, 0.969068202691371, 0.969068202691371, 0.9693836601046201, 0.9693836601046201, 0.9693836601046201, 0.9693836601046201]\n"
          ],
          "name": "stdout"
        }
      ]
    },
    {
      "cell_type": "code",
      "metadata": {
        "colab": {
          "base_uri": "https://localhost:8080/",
          "height": 296
        },
        "id": "AZrop9qUT3dA",
        "outputId": "772f24eb-6eb5-4aaa-b3ba-211542ff8adc"
      },
      "source": [
        "import matplotlib.pyplot as plt\n",
        "%matplotlib inline\n",
        "\n",
        "C_values=list(np.arange(0.1,6,0.1))\n",
        "# plot the value of C for SVM (x-axis) versus the cross-validated accuracy (y-axis)\n",
        "plt.plot(C_values,acc_score)\n",
        "plt.xticks(np.arange(0.0,6,0.3))\n",
        "plt.xlabel('Value of C for SVC ')\n",
        "plt.ylabel('Cross-Validated Accuracy')"
      ],
      "execution_count": null,
      "outputs": [
        {
          "output_type": "execute_result",
          "data": {
            "text/plain": [
              "Text(0, 0.5, 'Cross-Validated Accuracy')"
            ]
          },
          "metadata": {
            "tags": []
          },
          "execution_count": 51
        },
        {
          "output_type": "display_data",
          "data": {
            "image/png": "[encoded data removed]",
            "text/plain": [
              "<Figure size 432x288 with 1 Axes>"
            ]
          },
          "metadata": {
            "tags": [],
            "needs_background": "light"
          }
        }
      ]
    },
    {
      "cell_type": "code",
      "metadata": {
        "colab": {
          "base_uri": "https://localhost:8080/"
        },
        "id": "fLpxmgizT3TN",
        "outputId": "7038cb02-3953-4cd2-f064-fd141a0a6fc8"
      },
      "source": [
        "from sklearn.svm import SVC\n",
        "svc= SVC(kernel='linear',C=0.1)\n",
        "svc.fit(X_train,y_train)\n",
        "y_predict=svc.predict(X_test)\n",
        "accuracy_score= metrics.accuracy_score(y_test,y_predict)\n",
        "print(accuracy_score)"
      ],
      "execution_count": null,
      "outputs": [
        {
          "output_type": "stream",
          "text": [
            "0.9747634069400631\n"
          ],
          "name": "stdout"
        }
      ]
    },
    {
      "cell_type": "code",
      "metadata": {
        "colab": {
          "base_uri": "https://localhost:8080/"
        },
        "id": "oB9ecIgfWQL8",
        "outputId": "366ecf2d-dda9-4bdf-85d6-e104513b532b"
      },
      "source": [
        "from sklearn.model_selection import cross_val_score\n",
        "svc=SVC(kernel='linear',C=0.1)\n",
        "scores = cross_val_score(svc, X, y, cv=10, scoring='accuracy')\n",
        "print(scores)"
      ],
      "execution_count": null,
      "outputs": [
        {
          "output_type": "stream",
          "text": [
            "[0.90851735 0.97160883 0.97476341 0.97791798 0.95899054 0.99053628\n",
            " 0.99369085 0.97791798 0.95886076 0.99367089]\n"
          ],
          "name": "stdout"
        }
      ]
    },
    {
      "cell_type": "code",
      "metadata": {
        "id": "F6Oqex-mWU2k"
      },
      "source": [
        ""
      ],
      "execution_count": null,
      "outputs": []
    }
  ]
}