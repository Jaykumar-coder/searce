{
 "cells": [
  {
   "cell_type": "code",
   "execution_count": 28,
   "metadata": {},
   "outputs": [],
   "source": [
    "import numpy as np\n",
    "from scipy import linalg\n",
    "import sympy"
   ]
  },
  {
   "cell_type": "code",
   "execution_count": 29,
   "metadata": {},
   "outputs": [
    {
     "name": "stdout",
     "output_type": "stream",
     "text": [
      "1\n"
     ]
    }
   ],
   "source": [
    "n=int(input())"
   ]
  },
  {
   "cell_type": "code",
   "execution_count": 32,
   "metadata": {},
   "outputs": [
    {
     "name": "stdout",
     "output_type": "stream",
     "text": [
      "0 4 5 2\n",
      "5 0\n",
      "9\n",
      "[16/25]\n"
     ]
    }
   ],
   "source": [
    "for i in range(0,n):\n",
    "    d=list(map(int,input().rstrip().split()))\n",
    "    a=[]\n",
    "    for i in range(2):\n",
    "        matrix=[]\n",
    "        for j in range(2):\n",
    "            matrix.append(d[j+2*i])\n",
    "        a.append(matrix)\n",
    "    b=[]\n",
    "    e=list(map(int,input().rstrip().split()))\n",
    "    for i in range(2):\n",
    "        matrix=[]\n",
    "        for j in range(1):\n",
    "            matrix.append(e[i])\n",
    "        b.append(matrix)\n",
    "    \n",
    "    \n",
    "    g=int(input())\n",
    "    result = np.dot(a,b)\n",
    "    x = symbols('x')\n",
    "    expr = (result[0][0]-result[1][0])*x+result[1][0]-g;\n",
    "    sol = solve(expr)\n",
    "    print(sol)"
   ]
  },
  {
   "cell_type": "code",
   "execution_count": 31,
   "metadata": {},
   "outputs": [],
   "source": [
    "from sympy import symbols, solve"
   ]
  },
  {
   "cell_type": "code",
   "execution_count": null,
   "metadata": {},
   "outputs": [],
   "source": []
  }
 ],
 "metadata": {
  "kernelspec": {
   "display_name": "Python 3",
   "language": "python",
   "name": "python3"
  },
  "language_info": {
   "codemirror_mode": {
    "name": "ipython",
    "version": 3
   },
   "file_extension": ".py",
   "mimetype": "text/x-python",
   "name": "python",
   "nbconvert_exporter": "python",
   "pygments_lexer": "ipython3",
   "version": "3.7.6"
  }
 },
 "nbformat": 4,
 "nbformat_minor": 4
}
