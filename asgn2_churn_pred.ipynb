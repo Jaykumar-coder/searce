{
  "nbformat": 4,
  "nbformat_minor": 0,
  "metadata": {
    "colab": {
      "name": "asgn2.ipynb",
      "provenance": [],
      "collapsed_sections": [],
      "include_colab_link": true
    },
    "kernelspec": {
      "display_name": "Python 3",
      "name": "python3"
    },
    "language_info": {
      "name": "python"
    }
  },
  "cells": [
    {
      "cell_type": "markdown",
      "metadata": {
        "id": "view-in-github",
        "colab_type": "text"
      },
      "source": [
        "<a href=\"https://colab.research.google.com/github/Jaykumar-coder/searce/blob/main/asgn2_churn_pred.ipynb\" target=\"_parent\"><img src=\"https://colab.research.google.com/assets/colab-badge.svg\" alt=\"Open In Colab\"/></a>"
      ]
    },
    {
      "cell_type": "code",
      "metadata": {
        "id": "Zz1zaMm-agaA"
      },
      "source": [
        "# Importing the required libraries\n",
        "import numpy as np\n",
        "import pandas as pd\n",
        "import matplotlib.pyplot as plt\n",
        "import seaborn as sns\n",
        "from sklearn.model_selection import train_test_split\n",
        "from sklearn.decomposition import PCA\n",
        "from sklearn.metrics import accuracy_score\n",
        "from sklearn import preprocessing\n",
        "from sklearn import svm\n",
        "from sklearn.ensemble import RandomForestClassifier\n",
        "from sklearn.model_selection import GridSearchCV\n",
        "from sklearn.metrics import classification_report\n",
        "from sklearn.metrics import roc_auc_score\n",
        "import time"
      ],
      "execution_count": 1,
      "outputs": []
    },
    {
      "cell_type": "code",
      "metadata": {
        "colab": {
          "base_uri": "https://localhost:8080/"
        },
        "id": "FxMeDDGIpI3e",
        "outputId": "944ecc82-09d9-4c0c-b82e-da22f2cc1dfd"
      },
      "source": [
        "# Mounting the google drive\n",
        "from google.colab import drive\n",
        "drive.mount('/content/drive')"
      ],
      "execution_count": 2,
      "outputs": [
        {
          "output_type": "stream",
          "text": [
            "Mounted at /content/drive\n"
          ],
          "name": "stdout"
        }
      ]
    },
    {
      "cell_type": "code",
      "metadata": {
        "id": "Dy06bbsAakQf",
        "colab": {
          "base_uri": "https://localhost:8080/",
          "height": 280
        },
        "outputId": "00d8769c-d258-4e65-965e-224d4c5a9d2f"
      },
      "source": [
        "# Importing the data from the csv files (File path may be varied accordingly)\n",
        "train_df=pd.read_csv('/content/drive/MyDrive/searce/train_v2.csv')\n",
        "transaction_df=pd.read_csv('/content/drive/MyDrive/searce/transactions_v2.csv')\n",
        "members_df=pd.read_csv('/content/drive/MyDrive/searce/members_v3.csv')\n",
        "userlogs_df=pd.read_csv('/content/drive/MyDrive/searce/user_logs_v2.csv')\n",
        "\n",
        "plt.hist(train_df['is_churn'], bins = [0,0.5,1])\n",
        "plt.xlabel('is_churn')\n",
        "plt.show()"
      ],
      "execution_count": 3,
      "outputs": [
        {
          "output_type": "display_data",
          "data": {
            "image/png": "[encoded data removed]",
            "text/plain": [
              "<Figure size 432x288 with 1 Axes>"
            ]
          },
          "metadata": {
            "needs_background": "light"
          }
        }
      ]
    },
    {
      "cell_type": "markdown",
      "metadata": {
        "id": "qN35wtPLS8kO"
      },
      "source": [
        "Here, we can see  that the data is imbalanced, thus we are required to take approximately equal no of both classes to train better model.\n",
        "downsizing of data is also required to reduce the computation time as the data is large."
      ]
    },
    {
      "cell_type": "code",
      "metadata": {
        "id": "0DWw4cQK9XOd"
      },
      "source": [
        "# Random sampling of the train_df data for each of the labels for target variable\n",
        "train_df_0=train_df.loc[train_df['is_churn'] == 0].sample(n=2000)\n",
        "train_df_1=train_df.loc[train_df['is_churn'] == 1].sample(n=2000)\n",
        "train_df = pd.concat([train_df_0, train_df_1])"
      ],
      "execution_count": 4,
      "outputs": []
    },
    {
      "cell_type": "code",
      "metadata": {
        "colab": {
          "base_uri": "https://localhost:8080/",
          "height": 439
        },
        "id": "7duvdEau8w90",
        "outputId": "3e8b3917-a2ae-49f1-dd4d-616c6842c809"
      },
      "source": [
        "# Merging all the different datasets to obtain a combined dataset\n",
        "data = pd.merge(train_df, transaction_df, on='msno', how='left')\n",
        "data = pd.merge(data, members_df, on='msno', how='left')\n",
        "data = pd.merge(data, userlogs_df, on='msno', how='left')\n",
        "display(data)"
      ],
      "execution_count": 5,
      "outputs": [
        {
          "output_type": "display_data",
          "data": {
            "text/html": [
              "<div>\n",
              "<style scoped>\n",
              "    .dataframe tbody tr th:only-of-type {\n",
              "        vertical-align: middle;\n",
              "    }\n",
              "\n",
              "    .dataframe tbody tr th {\n",
              "        vertical-align: top;\n",
              "    }\n",
              "\n",
              "    .dataframe thead th {\n",
              "        text-align: right;\n",
              "    }\n",
              "</style>\n",
              "<table border=\"1\" class=\"dataframe\">\n",
              "  <thead>\n",
              "    <tr style=\"text-align: right;\">\n",
              "      <th></th>\n",
              "      <th>msno</th>\n",
              "      <th>is_churn</th>\n",
              "      <th>payment_method_id</th>\n",
              "      <th>payment_plan_days</th>\n",
              "      <th>plan_list_price</th>\n",
              "      <th>actual_amount_paid</th>\n",
              "      <th>is_auto_renew</th>\n",
              "      <th>transaction_date</th>\n",
              "      <th>membership_expire_date</th>\n",
              "      <th>is_cancel</th>\n",
              "      <th>city</th>\n",
              "      <th>bd</th>\n",
              "      <th>gender</th>\n",
              "      <th>registered_via</th>\n",
              "      <th>registration_init_time</th>\n",
              "      <th>date</th>\n",
              "      <th>num_25</th>\n",
              "      <th>num_50</th>\n",
              "      <th>num_75</th>\n",
              "      <th>num_985</th>\n",
              "      <th>num_100</th>\n",
              "      <th>num_unq</th>\n",
              "      <th>total_secs</th>\n",
              "    </tr>\n",
              "  </thead>\n",
              "  <tbody>\n",
              "    <tr>\n",
              "      <th>0</th>\n",
              "      <td>xcGe2DV/qcCmRmA+l6z5M7XlwK+iPAFq9kmEdOURsOQ=</td>\n",
              "      <td>0</td>\n",
              "      <td>30.0</td>\n",
              "      <td>30.0</td>\n",
              "      <td>100.0</td>\n",
              "      <td>100.0</td>\n",
              "      <td>1.0</td>\n",
              "      <td>20170304.0</td>\n",
              "      <td>20170403.0</td>\n",
              "      <td>0.0</td>\n",
              "      <td>1.0</td>\n",
              "      <td>0.0</td>\n",
              "      <td>NaN</td>\n",
              "      <td>13.0</td>\n",
              "      <td>20170103.0</td>\n",
              "      <td>20170305.0</td>\n",
              "      <td>1.0</td>\n",
              "      <td>0.0</td>\n",
              "      <td>0.0</td>\n",
              "      <td>0.0</td>\n",
              "      <td>25.0</td>\n",
              "      <td>24.0</td>\n",
              "      <td>6129.875</td>\n",
              "    </tr>\n",
              "    <tr>\n",
              "      <th>1</th>\n",
              "      <td>xcGe2DV/qcCmRmA+l6z5M7XlwK+iPAFq9kmEdOURsOQ=</td>\n",
              "      <td>0</td>\n",
              "      <td>30.0</td>\n",
              "      <td>30.0</td>\n",
              "      <td>100.0</td>\n",
              "      <td>100.0</td>\n",
              "      <td>1.0</td>\n",
              "      <td>20170304.0</td>\n",
              "      <td>20170403.0</td>\n",
              "      <td>0.0</td>\n",
              "      <td>1.0</td>\n",
              "      <td>0.0</td>\n",
              "      <td>NaN</td>\n",
              "      <td>13.0</td>\n",
              "      <td>20170103.0</td>\n",
              "      <td>20170317.0</td>\n",
              "      <td>1.0</td>\n",
              "      <td>2.0</td>\n",
              "      <td>1.0</td>\n",
              "      <td>0.0</td>\n",
              "      <td>4.0</td>\n",
              "      <td>5.0</td>\n",
              "      <td>1342.658</td>\n",
              "    </tr>\n",
              "    <tr>\n",
              "      <th>2</th>\n",
              "      <td>xcGe2DV/qcCmRmA+l6z5M7XlwK+iPAFq9kmEdOURsOQ=</td>\n",
              "      <td>0</td>\n",
              "      <td>30.0</td>\n",
              "      <td>30.0</td>\n",
              "      <td>100.0</td>\n",
              "      <td>100.0</td>\n",
              "      <td>1.0</td>\n",
              "      <td>20170304.0</td>\n",
              "      <td>20170403.0</td>\n",
              "      <td>0.0</td>\n",
              "      <td>1.0</td>\n",
              "      <td>0.0</td>\n",
              "      <td>NaN</td>\n",
              "      <td>13.0</td>\n",
              "      <td>20170103.0</td>\n",
              "      <td>20170325.0</td>\n",
              "      <td>8.0</td>\n",
              "      <td>2.0</td>\n",
              "      <td>0.0</td>\n",
              "      <td>0.0</td>\n",
              "      <td>28.0</td>\n",
              "      <td>34.0</td>\n",
              "      <td>7314.300</td>\n",
              "    </tr>\n",
              "    <tr>\n",
              "      <th>3</th>\n",
              "      <td>xcGe2DV/qcCmRmA+l6z5M7XlwK+iPAFq9kmEdOURsOQ=</td>\n",
              "      <td>0</td>\n",
              "      <td>30.0</td>\n",
              "      <td>30.0</td>\n",
              "      <td>100.0</td>\n",
              "      <td>100.0</td>\n",
              "      <td>1.0</td>\n",
              "      <td>20170304.0</td>\n",
              "      <td>20170403.0</td>\n",
              "      <td>0.0</td>\n",
              "      <td>1.0</td>\n",
              "      <td>0.0</td>\n",
              "      <td>NaN</td>\n",
              "      <td>13.0</td>\n",
              "      <td>20170103.0</td>\n",
              "      <td>20170308.0</td>\n",
              "      <td>1.0</td>\n",
              "      <td>0.0</td>\n",
              "      <td>0.0</td>\n",
              "      <td>0.0</td>\n",
              "      <td>2.0</td>\n",
              "      <td>3.0</td>\n",
              "      <td>530.128</td>\n",
              "    </tr>\n",
              "    <tr>\n",
              "      <th>4</th>\n",
              "      <td>xcGe2DV/qcCmRmA+l6z5M7XlwK+iPAFq9kmEdOURsOQ=</td>\n",
              "      <td>0</td>\n",
              "      <td>30.0</td>\n",
              "      <td>30.0</td>\n",
              "      <td>100.0</td>\n",
              "      <td>100.0</td>\n",
              "      <td>1.0</td>\n",
              "      <td>20170304.0</td>\n",
              "      <td>20170403.0</td>\n",
              "      <td>0.0</td>\n",
              "      <td>1.0</td>\n",
              "      <td>0.0</td>\n",
              "      <td>NaN</td>\n",
              "      <td>13.0</td>\n",
              "      <td>20170103.0</td>\n",
              "      <td>20170310.0</td>\n",
              "      <td>1.0</td>\n",
              "      <td>1.0</td>\n",
              "      <td>1.0</td>\n",
              "      <td>0.0</td>\n",
              "      <td>3.0</td>\n",
              "      <td>6.0</td>\n",
              "      <td>1015.294</td>\n",
              "    </tr>\n",
              "    <tr>\n",
              "      <th>...</th>\n",
              "      <td>...</td>\n",
              "      <td>...</td>\n",
              "      <td>...</td>\n",
              "      <td>...</td>\n",
              "      <td>...</td>\n",
              "      <td>...</td>\n",
              "      <td>...</td>\n",
              "      <td>...</td>\n",
              "      <td>...</td>\n",
              "      <td>...</td>\n",
              "      <td>...</td>\n",
              "      <td>...</td>\n",
              "      <td>...</td>\n",
              "      <td>...</td>\n",
              "      <td>...</td>\n",
              "      <td>...</td>\n",
              "      <td>...</td>\n",
              "      <td>...</td>\n",
              "      <td>...</td>\n",
              "      <td>...</td>\n",
              "      <td>...</td>\n",
              "      <td>...</td>\n",
              "      <td>...</td>\n",
              "    </tr>\n",
              "    <tr>\n",
              "      <th>72978</th>\n",
              "      <td>/1nQE3nfqUSJzlJxZM4eLv8zDMarxe8rqveT8TRm/fU=</td>\n",
              "      <td>1</td>\n",
              "      <td>NaN</td>\n",
              "      <td>NaN</td>\n",
              "      <td>NaN</td>\n",
              "      <td>NaN</td>\n",
              "      <td>NaN</td>\n",
              "      <td>NaN</td>\n",
              "      <td>NaN</td>\n",
              "      <td>NaN</td>\n",
              "      <td>1.0</td>\n",
              "      <td>0.0</td>\n",
              "      <td>NaN</td>\n",
              "      <td>3.0</td>\n",
              "      <td>20130209.0</td>\n",
              "      <td>20170307.0</td>\n",
              "      <td>2.0</td>\n",
              "      <td>0.0</td>\n",
              "      <td>2.0</td>\n",
              "      <td>3.0</td>\n",
              "      <td>15.0</td>\n",
              "      <td>16.0</td>\n",
              "      <td>4779.630</td>\n",
              "    </tr>\n",
              "    <tr>\n",
              "      <th>72979</th>\n",
              "      <td>/1nQE3nfqUSJzlJxZM4eLv8zDMarxe8rqveT8TRm/fU=</td>\n",
              "      <td>1</td>\n",
              "      <td>NaN</td>\n",
              "      <td>NaN</td>\n",
              "      <td>NaN</td>\n",
              "      <td>NaN</td>\n",
              "      <td>NaN</td>\n",
              "      <td>NaN</td>\n",
              "      <td>NaN</td>\n",
              "      <td>NaN</td>\n",
              "      <td>1.0</td>\n",
              "      <td>0.0</td>\n",
              "      <td>NaN</td>\n",
              "      <td>3.0</td>\n",
              "      <td>20130209.0</td>\n",
              "      <td>20170301.0</td>\n",
              "      <td>5.0</td>\n",
              "      <td>2.0</td>\n",
              "      <td>0.0</td>\n",
              "      <td>2.0</td>\n",
              "      <td>0.0</td>\n",
              "      <td>8.0</td>\n",
              "      <td>593.267</td>\n",
              "    </tr>\n",
              "    <tr>\n",
              "      <th>72980</th>\n",
              "      <td>/1nQE3nfqUSJzlJxZM4eLv8zDMarxe8rqveT8TRm/fU=</td>\n",
              "      <td>1</td>\n",
              "      <td>NaN</td>\n",
              "      <td>NaN</td>\n",
              "      <td>NaN</td>\n",
              "      <td>NaN</td>\n",
              "      <td>NaN</td>\n",
              "      <td>NaN</td>\n",
              "      <td>NaN</td>\n",
              "      <td>NaN</td>\n",
              "      <td>1.0</td>\n",
              "      <td>0.0</td>\n",
              "      <td>NaN</td>\n",
              "      <td>3.0</td>\n",
              "      <td>20130209.0</td>\n",
              "      <td>20170304.0</td>\n",
              "      <td>25.0</td>\n",
              "      <td>24.0</td>\n",
              "      <td>8.0</td>\n",
              "      <td>15.0</td>\n",
              "      <td>45.0</td>\n",
              "      <td>79.0</td>\n",
              "      <td>18248.452</td>\n",
              "    </tr>\n",
              "    <tr>\n",
              "      <th>72981</th>\n",
              "      <td>w2gO5DKettlwOY6Uz0Ku0p4y/0VTC4oYu3dPj8JrqrQ=</td>\n",
              "      <td>1</td>\n",
              "      <td>41.0</td>\n",
              "      <td>30.0</td>\n",
              "      <td>129.0</td>\n",
              "      <td>129.0</td>\n",
              "      <td>1.0</td>\n",
              "      <td>20170306.0</td>\n",
              "      <td>20170307.0</td>\n",
              "      <td>1.0</td>\n",
              "      <td>1.0</td>\n",
              "      <td>0.0</td>\n",
              "      <td>NaN</td>\n",
              "      <td>7.0</td>\n",
              "      <td>20100405.0</td>\n",
              "      <td>20170325.0</td>\n",
              "      <td>0.0</td>\n",
              "      <td>0.0</td>\n",
              "      <td>0.0</td>\n",
              "      <td>0.0</td>\n",
              "      <td>1.0</td>\n",
              "      <td>1.0</td>\n",
              "      <td>297.168</td>\n",
              "    </tr>\n",
              "    <tr>\n",
              "      <th>72982</th>\n",
              "      <td>w2gO5DKettlwOY6Uz0Ku0p4y/0VTC4oYu3dPj8JrqrQ=</td>\n",
              "      <td>1</td>\n",
              "      <td>41.0</td>\n",
              "      <td>30.0</td>\n",
              "      <td>129.0</td>\n",
              "      <td>129.0</td>\n",
              "      <td>1.0</td>\n",
              "      <td>20170304.0</td>\n",
              "      <td>20170405.0</td>\n",
              "      <td>0.0</td>\n",
              "      <td>1.0</td>\n",
              "      <td>0.0</td>\n",
              "      <td>NaN</td>\n",
              "      <td>7.0</td>\n",
              "      <td>20100405.0</td>\n",
              "      <td>20170325.0</td>\n",
              "      <td>0.0</td>\n",
              "      <td>0.0</td>\n",
              "      <td>0.0</td>\n",
              "      <td>0.0</td>\n",
              "      <td>1.0</td>\n",
              "      <td>1.0</td>\n",
              "      <td>297.168</td>\n",
              "    </tr>\n",
              "  </tbody>\n",
              "</table>\n",
              "<p>72983 rows × 23 columns</p>\n",
              "</div>"
            ],
            "text/plain": [
              "                                               msno  ...  total_secs\n",
              "0      xcGe2DV/qcCmRmA+l6z5M7XlwK+iPAFq9kmEdOURsOQ=  ...    6129.875\n",
              "1      xcGe2DV/qcCmRmA+l6z5M7XlwK+iPAFq9kmEdOURsOQ=  ...    1342.658\n",
              "2      xcGe2DV/qcCmRmA+l6z5M7XlwK+iPAFq9kmEdOURsOQ=  ...    7314.300\n",
              "3      xcGe2DV/qcCmRmA+l6z5M7XlwK+iPAFq9kmEdOURsOQ=  ...     530.128\n",
              "4      xcGe2DV/qcCmRmA+l6z5M7XlwK+iPAFq9kmEdOURsOQ=  ...    1015.294\n",
              "...                                             ...  ...         ...\n",
              "72978  /1nQE3nfqUSJzlJxZM4eLv8zDMarxe8rqveT8TRm/fU=  ...    4779.630\n",
              "72979  /1nQE3nfqUSJzlJxZM4eLv8zDMarxe8rqveT8TRm/fU=  ...     593.267\n",
              "72980  /1nQE3nfqUSJzlJxZM4eLv8zDMarxe8rqveT8TRm/fU=  ...   18248.452\n",
              "72981  w2gO5DKettlwOY6Uz0Ku0p4y/0VTC4oYu3dPj8JrqrQ=  ...     297.168\n",
              "72982  w2gO5DKettlwOY6Uz0Ku0p4y/0VTC4oYu3dPj8JrqrQ=  ...     297.168\n",
              "\n",
              "[72983 rows x 23 columns]"
            ]
          },
          "metadata": {}
        }
      ]
    },
    {
      "cell_type": "markdown",
      "metadata": {
        "id": "a1gDGcVsZdde"
      },
      "source": [
        "now all the data are combined based on mnso.Now lets check the distribution of the updated down sampling data\n"
      ]
    },
    {
      "cell_type": "code",
      "metadata": {
        "colab": {
          "base_uri": "https://localhost:8080/",
          "height": 280
        },
        "id": "PU6Zt8tV9AKb",
        "outputId": "4879e6f1-bfd2-4706-de1d-3f94164dfc41"
      },
      "source": [
        "# Studying the variation of the labels now\n",
        "plt.hist(data['is_churn'], bins = [0,0.5,1])\n",
        "plt.xlabel('is_churn')\n",
        "plt.show()"
      ],
      "execution_count": 6,
      "outputs": [
        {
          "output_type": "display_data",
          "data": {
            "image/png": "[encoded data removed]",
            "text/plain": [
              "<Figure size 432x288 with 1 Axes>"
            ]
          },
          "metadata": {
            "needs_background": "light"
          }
        }
      ]
    },
    {
      "cell_type": "code",
      "metadata": {
        "colab": {
          "base_uri": "https://localhost:8080/",
          "height": 297
        },
        "id": "kwLhWTqAAxpb",
        "outputId": "51d1edab-4cc1-4f18-df62-22cc6c4506ef"
      },
      "source": [
        "#lets check distribution of data plan\n",
        "sns.boxplot(x='payment_plan_days', data=transaction_df)\n"
      ],
      "execution_count": 11,
      "outputs": [
        {
          "output_type": "execute_result",
          "data": {
            "text/plain": [
              "<matplotlib.axes._subplots.AxesSubplot at 0x7fdf4ee302d0>"
            ]
          },
          "metadata": {},
          "execution_count": 11
        },
        {
          "output_type": "display_data",
          "data": {
            "image/png": "[encoded data removed]",
            "text/plain": [
              "<Figure size 432x288 with 1 Axes>"
            ]
          },
          "metadata": {
            "needs_background": "light"
          }
        }
      ]
    },
    {
      "cell_type": "code",
      "metadata": {
        "colab": {
          "base_uri": "https://localhost:8080/",
          "height": 297
        },
        "id": "zoT5gatrB8S3",
        "outputId": "fcbf9c84-cd8e-488a-f86f-c67b5654f3c0"
      },
      "source": [
        "#lets check distribution of plan price\n",
        "sns.boxplot(x='plan_list_price', data=transaction_df)"
      ],
      "execution_count": 12,
      "outputs": [
        {
          "output_type": "execute_result",
          "data": {
            "text/plain": [
              "<matplotlib.axes._subplots.AxesSubplot at 0x7fdf4fcc4110>"
            ]
          },
          "metadata": {},
          "execution_count": 12
        },
        {
          "output_type": "display_data",
          "data": {
            "image/png": "[encoded data removed]",
            "text/plain": [
              "<Figure size 432x288 with 1 Axes>"
            ]
          },
          "metadata": {
            "needs_background": "light"
          }
        }
      ]
    },
    {
      "cell_type": "code",
      "metadata": {
        "colab": {
          "base_uri": "https://localhost:8080/",
          "height": 308
        },
        "id": "a7Q2rB6qC6GL",
        "outputId": "8759253a-8339-440a-a4de-a47048e337ad"
      },
      "source": [
        "#check for auto renew distribution\n",
        "sns.countplot(x='is_auto_renew', data=transaction_df)"
      ],
      "execution_count": 14,
      "outputs": [
        {
          "output_type": "execute_result",
          "data": {
            "text/plain": [
              "<matplotlib.axes._subplots.AxesSubplot at 0x7fdf4bd76b90>"
            ]
          },
          "metadata": {},
          "execution_count": 14
        },
        {
          "output_type": "display_data",
          "data": {
            "image/png": "[encoded data removed]",
            "text/plain": [
              "<Figure size 432x288 with 1 Axes>"
            ]
          },
          "metadata": {
            "needs_background": "light"
          }
        }
      ]
    },
    {
      "cell_type": "code",
      "metadata": {
        "colab": {
          "base_uri": "https://localhost:8080/"
        },
        "id": "-s89Ks44CXWs",
        "outputId": "8c7fff10-b853-4e76-8c63-2114e59ae43c"
      },
      "source": [
        "#check for null values\n",
        "data.isnull().sum()"
      ],
      "execution_count": 13,
      "outputs": [
        {
          "output_type": "execute_result",
          "data": {
            "text/plain": [
              "msno                          0\n",
              "is_churn                      0\n",
              "payment_method_id          5137\n",
              "payment_plan_days          5137\n",
              "plan_list_price            5137\n",
              "actual_amount_paid         5137\n",
              "is_auto_renew              5137\n",
              "transaction_date           5137\n",
              "membership_expire_date     5137\n",
              "is_cancel                  5137\n",
              "city                        505\n",
              "bd                          505\n",
              "gender                    28963\n",
              "registered_via              505\n",
              "registration_init_time      505\n",
              "date                       1411\n",
              "num_25                     1411\n",
              "num_50                     1411\n",
              "num_75                     1411\n",
              "num_985                    1411\n",
              "num_100                    1411\n",
              "num_unq                    1411\n",
              "total_secs                 1411\n",
              "dtype: int64"
            ]
          },
          "metadata": {},
          "execution_count": 13
        }
      ]
    },
    {
      "cell_type": "markdown",
      "metadata": {
        "id": "jN76wT5QCpnl"
      },
      "source": [
        "Its seems that there are lot of null values and hence a preprocessing is required."
      ]
    },
    {
      "cell_type": "markdown",
      "metadata": {
        "id": "fhcX5QF8qRWu"
      },
      "source": [
        "#### Data Pre-processing"
      ]
    },
    {
      "cell_type": "code",
      "metadata": {
        "id": "H7tTszh2qQf7"
      },
      "source": [
        "# A function that takes care of all the null values and unwanted columns in the dataset\n",
        "# Returns two seperate dataframes X (feature vectors) and Y (labels)\n",
        "def process(data):\n",
        "  # Substituting 0 for blank payment_method_id\n",
        "  data['payment_method_id'] = data['payment_method_id'].fillna(0)\n",
        "\n",
        "  # Removing outliers\n",
        "  data['payment_plan_days'] = data['payment_plan_days'].apply(lambda x: x if (x <= 30.0) else np.nan)\n",
        "  # Set the default payment_plan_days to 30 days\n",
        "  data['payment_plan_days'] = data['payment_plan_days'].fillna(30.0)\n",
        "\n",
        "  # Removing outliers\n",
        "  data['plan_list_price'] = data['plan_list_price'].apply(lambda x: x if (x <= 180.0) else np.nan)\n",
        "  # Set the default plan_list_price to 149\n",
        "  data['plan_list_price'] = data['plan_list_price'].fillna(149.0)\n",
        "\n",
        "  # Removing outliers\n",
        "  data['actual_amount_paid'] = data['actual_amount_paid'].apply(lambda x: x if (x <= 180.0) else np.nan)\n",
        "  # imputing the default actual_amount_paid to 149.0\n",
        "  data['actual_amount_paid'] = data['actual_amount_paid'].fillna(149.0)\n",
        "\n",
        "  # Set the default is_auto_renew to 2\n",
        "  data['is_auto_renew'] = data['is_auto_renew'].fillna(2)\n",
        "\n",
        "  # Set the default for is_cancel to 2\n",
        "  data['is_cancel'] = data['is_cancel'].fillna(2)\n",
        "\n",
        "  # Set the default for city to 0\n",
        "  data['city'] = data['city'].fillna(0)\n",
        "\n",
        "  # Eliminating the outliers and considering only age 0-70\n",
        "  data['bd'] = data['bd'].apply(lambda x: x if (x < 70.0) and (x > 0.0) else np.nan)\n",
        "  data['bd'] = data['bd'].fillna(28.0)\n",
        "\n",
        "  # Processing the genders as 0:NaN, 1:Male, 2:Female\n",
        "  data['gender'] = data['gender'].fillna(0)\n",
        "  data['gender'] = data['gender'].replace(to_replace='male', value=1)\n",
        "  data['gender'] = data['gender'].replace(to_replace='female', value=2)\n",
        "\n",
        "  # Setting median date in place of nan in the df\n",
        "  data['registration_init_time'] = data['registration_init_time'].fillna(20150204.0)\n",
        "  # Getting registration_init_time array and store to registration_time list\n",
        "  registration_time = data['registration_init_time'].values\n",
        "\n",
        "  # Set the default for registered_via to 0\n",
        "  data['registered_via'] = data['registered_via'].fillna(0)\n",
        "\n",
        "  # Removing outliers\n",
        "  data['num_25'] = data['num_25'].apply(lambda x: x if (x <= 15.0) else np.nan)\n",
        "  # Set the default num_25 to 2\n",
        "  data['num_25'] = data['num_25'].fillna(2.0)\n",
        "\n",
        "  # Removing outliers\n",
        "  data['num_50'] = data['num_50'].apply(lambda x: x if (x <= 4.0) else np.nan)\n",
        "  # Set the default num_50 to 0\n",
        "  data['num_50'] = data['num_50'].fillna(0)\n",
        "\n",
        "  # Removing outliers\n",
        "  data['num_75'] = data['num_75'].apply(lambda x: x if (x <= 3.0) else np.nan)\n",
        "  # Set the default num_75 to 0\n",
        "  data['num_75'] = data['num_75'].fillna(0)\n",
        "\n",
        "  # Removing outliers\n",
        "  data['num_985'] = data['num_985'].apply(lambda x: x if (x <= 3.0) else np.nan)\n",
        "  # Set the default num_985 to 0\n",
        "  data['num_985'] = data['num_985'].fillna(0)\n",
        "\n",
        "  # Removing outliers\n",
        "  data['num_100'] = data['num_100'].apply(lambda x: x if (x <= 74.0) else np.nan)\n",
        "  # Set the default num_100 to 14\n",
        "  data['num_100'] = data['num_100'].fillna(14.0)\n",
        "\n",
        "  # Removing outliers\n",
        "  data['num_unq'] = data['num_unq'].apply(lambda x: x if (x <= 68.0) else np.nan)\n",
        "  # Set the default num_unq to 16\n",
        "  data['num_unq'] = data['num_unq'].fillna(16.0)\n",
        "\n",
        "  # Removing outliers\n",
        "  data['total_secs'] = data['total_secs'].apply(lambda x: x if (x <= 18000) else np.nan)\n",
        "  # Set the default total_secs to 2\n",
        "  data['total_secs'] = data['total_secs'].fillna(3900)\n",
        "\n",
        "  X = data\n",
        "  X = X.drop(['is_churn', 'msno', 'transaction_date', 'membership_expire_date', 'date'], axis=1)\n",
        "  Y = data['is_churn']\n",
        "\n",
        "  return X, Y"
      ],
      "execution_count": 16,
      "outputs": []
    },
    {
      "cell_type": "code",
      "metadata": {
        "colab": {
          "base_uri": "https://localhost:8080/",
          "height": 439
        },
        "id": "b0IDERvBEXZU",
        "outputId": "0d8fbb4e-5746-4f05-de36-f24cb1e838ee"
      },
      "source": [
        "X, Y = process(data)\n",
        "display(X)"
      ],
      "execution_count": 17,
      "outputs": [
        {
          "output_type": "display_data",
          "data": {
            "text/html": [
              "<div>\n",
              "<style scoped>\n",
              "    .dataframe tbody tr th:only-of-type {\n",
              "        vertical-align: middle;\n",
              "    }\n",
              "\n",
              "    .dataframe tbody tr th {\n",
              "        vertical-align: top;\n",
              "    }\n",
              "\n",
              "    .dataframe thead th {\n",
              "        text-align: right;\n",
              "    }\n",
              "</style>\n",
              "<table border=\"1\" class=\"dataframe\">\n",
              "  <thead>\n",
              "    <tr style=\"text-align: right;\">\n",
              "      <th></th>\n",
              "      <th>payment_method_id</th>\n",
              "      <th>payment_plan_days</th>\n",
              "      <th>plan_list_price</th>\n",
              "      <th>actual_amount_paid</th>\n",
              "      <th>is_auto_renew</th>\n",
              "      <th>is_cancel</th>\n",
              "      <th>city</th>\n",
              "      <th>bd</th>\n",
              "      <th>gender</th>\n",
              "      <th>registered_via</th>\n",
              "      <th>registration_init_time</th>\n",
              "      <th>num_25</th>\n",
              "      <th>num_50</th>\n",
              "      <th>num_75</th>\n",
              "      <th>num_985</th>\n",
              "      <th>num_100</th>\n",
              "      <th>num_unq</th>\n",
              "      <th>total_secs</th>\n",
              "    </tr>\n",
              "  </thead>\n",
              "  <tbody>\n",
              "    <tr>\n",
              "      <th>0</th>\n",
              "      <td>30.0</td>\n",
              "      <td>30.0</td>\n",
              "      <td>100.0</td>\n",
              "      <td>100.0</td>\n",
              "      <td>1.0</td>\n",
              "      <td>0.0</td>\n",
              "      <td>1.0</td>\n",
              "      <td>28.0</td>\n",
              "      <td>0</td>\n",
              "      <td>13.0</td>\n",
              "      <td>20170103.0</td>\n",
              "      <td>1.0</td>\n",
              "      <td>0.0</td>\n",
              "      <td>0.0</td>\n",
              "      <td>0.0</td>\n",
              "      <td>25.0</td>\n",
              "      <td>24.0</td>\n",
              "      <td>6129.875</td>\n",
              "    </tr>\n",
              "    <tr>\n",
              "      <th>1</th>\n",
              "      <td>30.0</td>\n",
              "      <td>30.0</td>\n",
              "      <td>100.0</td>\n",
              "      <td>100.0</td>\n",
              "      <td>1.0</td>\n",
              "      <td>0.0</td>\n",
              "      <td>1.0</td>\n",
              "      <td>28.0</td>\n",
              "      <td>0</td>\n",
              "      <td>13.0</td>\n",
              "      <td>20170103.0</td>\n",
              "      <td>1.0</td>\n",
              "      <td>2.0</td>\n",
              "      <td>1.0</td>\n",
              "      <td>0.0</td>\n",
              "      <td>4.0</td>\n",
              "      <td>5.0</td>\n",
              "      <td>1342.658</td>\n",
              "    </tr>\n",
              "    <tr>\n",
              "      <th>2</th>\n",
              "      <td>30.0</td>\n",
              "      <td>30.0</td>\n",
              "      <td>100.0</td>\n",
              "      <td>100.0</td>\n",
              "      <td>1.0</td>\n",
              "      <td>0.0</td>\n",
              "      <td>1.0</td>\n",
              "      <td>28.0</td>\n",
              "      <td>0</td>\n",
              "      <td>13.0</td>\n",
              "      <td>20170103.0</td>\n",
              "      <td>8.0</td>\n",
              "      <td>2.0</td>\n",
              "      <td>0.0</td>\n",
              "      <td>0.0</td>\n",
              "      <td>28.0</td>\n",
              "      <td>34.0</td>\n",
              "      <td>7314.300</td>\n",
              "    </tr>\n",
              "    <tr>\n",
              "      <th>3</th>\n",
              "      <td>30.0</td>\n",
              "      <td>30.0</td>\n",
              "      <td>100.0</td>\n",
              "      <td>100.0</td>\n",
              "      <td>1.0</td>\n",
              "      <td>0.0</td>\n",
              "      <td>1.0</td>\n",
              "      <td>28.0</td>\n",
              "      <td>0</td>\n",
              "      <td>13.0</td>\n",
              "      <td>20170103.0</td>\n",
              "      <td>1.0</td>\n",
              "      <td>0.0</td>\n",
              "      <td>0.0</td>\n",
              "      <td>0.0</td>\n",
              "      <td>2.0</td>\n",
              "      <td>3.0</td>\n",
              "      <td>530.128</td>\n",
              "    </tr>\n",
              "    <tr>\n",
              "      <th>4</th>\n",
              "      <td>30.0</td>\n",
              "      <td>30.0</td>\n",
              "      <td>100.0</td>\n",
              "      <td>100.0</td>\n",
              "      <td>1.0</td>\n",
              "      <td>0.0</td>\n",
              "      <td>1.0</td>\n",
              "      <td>28.0</td>\n",
              "      <td>0</td>\n",
              "      <td>13.0</td>\n",
              "      <td>20170103.0</td>\n",
              "      <td>1.0</td>\n",
              "      <td>1.0</td>\n",
              "      <td>1.0</td>\n",
              "      <td>0.0</td>\n",
              "      <td>3.0</td>\n",
              "      <td>6.0</td>\n",
              "      <td>1015.294</td>\n",
              "    </tr>\n",
              "    <tr>\n",
              "      <th>...</th>\n",
              "      <td>...</td>\n",
              "      <td>...</td>\n",
              "      <td>...</td>\n",
              "      <td>...</td>\n",
              "      <td>...</td>\n",
              "      <td>...</td>\n",
              "      <td>...</td>\n",
              "      <td>...</td>\n",
              "      <td>...</td>\n",
              "      <td>...</td>\n",
              "      <td>...</td>\n",
              "      <td>...</td>\n",
              "      <td>...</td>\n",
              "      <td>...</td>\n",
              "      <td>...</td>\n",
              "      <td>...</td>\n",
              "      <td>...</td>\n",
              "      <td>...</td>\n",
              "    </tr>\n",
              "    <tr>\n",
              "      <th>72978</th>\n",
              "      <td>0.0</td>\n",
              "      <td>30.0</td>\n",
              "      <td>149.0</td>\n",
              "      <td>149.0</td>\n",
              "      <td>2.0</td>\n",
              "      <td>2.0</td>\n",
              "      <td>1.0</td>\n",
              "      <td>28.0</td>\n",
              "      <td>0</td>\n",
              "      <td>3.0</td>\n",
              "      <td>20130209.0</td>\n",
              "      <td>2.0</td>\n",
              "      <td>0.0</td>\n",
              "      <td>2.0</td>\n",
              "      <td>3.0</td>\n",
              "      <td>15.0</td>\n",
              "      <td>16.0</td>\n",
              "      <td>4779.630</td>\n",
              "    </tr>\n",
              "    <tr>\n",
              "      <th>72979</th>\n",
              "      <td>0.0</td>\n",
              "      <td>30.0</td>\n",
              "      <td>149.0</td>\n",
              "      <td>149.0</td>\n",
              "      <td>2.0</td>\n",
              "      <td>2.0</td>\n",
              "      <td>1.0</td>\n",
              "      <td>28.0</td>\n",
              "      <td>0</td>\n",
              "      <td>3.0</td>\n",
              "      <td>20130209.0</td>\n",
              "      <td>5.0</td>\n",
              "      <td>2.0</td>\n",
              "      <td>0.0</td>\n",
              "      <td>2.0</td>\n",
              "      <td>0.0</td>\n",
              "      <td>8.0</td>\n",
              "      <td>593.267</td>\n",
              "    </tr>\n",
              "    <tr>\n",
              "      <th>72980</th>\n",
              "      <td>0.0</td>\n",
              "      <td>30.0</td>\n",
              "      <td>149.0</td>\n",
              "      <td>149.0</td>\n",
              "      <td>2.0</td>\n",
              "      <td>2.0</td>\n",
              "      <td>1.0</td>\n",
              "      <td>28.0</td>\n",
              "      <td>0</td>\n",
              "      <td>3.0</td>\n",
              "      <td>20130209.0</td>\n",
              "      <td>2.0</td>\n",
              "      <td>0.0</td>\n",
              "      <td>0.0</td>\n",
              "      <td>0.0</td>\n",
              "      <td>45.0</td>\n",
              "      <td>16.0</td>\n",
              "      <td>3900.000</td>\n",
              "    </tr>\n",
              "    <tr>\n",
              "      <th>72981</th>\n",
              "      <td>41.0</td>\n",
              "      <td>30.0</td>\n",
              "      <td>129.0</td>\n",
              "      <td>129.0</td>\n",
              "      <td>1.0</td>\n",
              "      <td>1.0</td>\n",
              "      <td>1.0</td>\n",
              "      <td>28.0</td>\n",
              "      <td>0</td>\n",
              "      <td>7.0</td>\n",
              "      <td>20100405.0</td>\n",
              "      <td>0.0</td>\n",
              "      <td>0.0</td>\n",
              "      <td>0.0</td>\n",
              "      <td>0.0</td>\n",
              "      <td>1.0</td>\n",
              "      <td>1.0</td>\n",
              "      <td>297.168</td>\n",
              "    </tr>\n",
              "    <tr>\n",
              "      <th>72982</th>\n",
              "      <td>41.0</td>\n",
              "      <td>30.0</td>\n",
              "      <td>129.0</td>\n",
              "      <td>129.0</td>\n",
              "      <td>1.0</td>\n",
              "      <td>0.0</td>\n",
              "      <td>1.0</td>\n",
              "      <td>28.0</td>\n",
              "      <td>0</td>\n",
              "      <td>7.0</td>\n",
              "      <td>20100405.0</td>\n",
              "      <td>0.0</td>\n",
              "      <td>0.0</td>\n",
              "      <td>0.0</td>\n",
              "      <td>0.0</td>\n",
              "      <td>1.0</td>\n",
              "      <td>1.0</td>\n",
              "      <td>297.168</td>\n",
              "    </tr>\n",
              "  </tbody>\n",
              "</table>\n",
              "<p>72983 rows × 18 columns</p>\n",
              "</div>"
            ],
            "text/plain": [
              "       payment_method_id  payment_plan_days  ...  num_unq  total_secs\n",
              "0                   30.0               30.0  ...     24.0    6129.875\n",
              "1                   30.0               30.0  ...      5.0    1342.658\n",
              "2                   30.0               30.0  ...     34.0    7314.300\n",
              "3                   30.0               30.0  ...      3.0     530.128\n",
              "4                   30.0               30.0  ...      6.0    1015.294\n",
              "...                  ...                ...  ...      ...         ...\n",
              "72978                0.0               30.0  ...     16.0    4779.630\n",
              "72979                0.0               30.0  ...      8.0     593.267\n",
              "72980                0.0               30.0  ...     16.0    3900.000\n",
              "72981               41.0               30.0  ...      1.0     297.168\n",
              "72982               41.0               30.0  ...      1.0     297.168\n",
              "\n",
              "[72983 rows x 18 columns]"
            ]
          },
          "metadata": {}
        }
      ]
    },
    {
      "cell_type": "code",
      "metadata": {
        "colab": {
          "base_uri": "https://localhost:8080/"
        },
        "id": "ISTSmk4MDUPr",
        "outputId": "efc16f87-5f7f-42dc-a584-f4b698d5419c"
      },
      "source": [
        "#now again lets check for null data\n",
        "data.isnull().sum()"
      ],
      "execution_count": 18,
      "outputs": [
        {
          "output_type": "execute_result",
          "data": {
            "text/plain": [
              "msno                         0\n",
              "is_churn                     0\n",
              "payment_method_id            0\n",
              "payment_plan_days            0\n",
              "plan_list_price              0\n",
              "actual_amount_paid           0\n",
              "is_auto_renew                0\n",
              "transaction_date          5137\n",
              "membership_expire_date    5137\n",
              "is_cancel                    0\n",
              "city                         0\n",
              "bd                           0\n",
              "gender                       0\n",
              "registered_via               0\n",
              "registration_init_time       0\n",
              "date                      1411\n",
              "num_25                       0\n",
              "num_50                       0\n",
              "num_75                       0\n",
              "num_985                      0\n",
              "num_100                      0\n",
              "num_unq                      0\n",
              "total_secs                   0\n",
              "dtype: int64"
            ]
          },
          "metadata": {},
          "execution_count": 18
        }
      ]
    },
    {
      "cell_type": "markdown",
      "metadata": {
        "id": "AmVwlTgWGACl"
      },
      "source": [
        "The rest null value column are not important for the futher analysis and can be dropped.\n"
      ]
    },
    {
      "cell_type": "markdown",
      "metadata": {
        "id": "YMC36DK77FHd"
      },
      "source": [
        "#### Principal Component Analysis"
      ]
    },
    {
      "cell_type": "code",
      "metadata": {
        "colab": {
          "base_uri": "https://localhost:8080/"
        },
        "id": "2D8DdriGDI6n",
        "outputId": "c7f3eb03-4343-4e2f-8444-79ace9646182"
      },
      "source": [
        "pca = PCA(n_components=10)\n",
        "X_pca = pca.fit_transform(X.to_numpy())\n",
        "\n",
        "print(\"Variance retained: %s\" % (sum(pca.explained_variance_ratio_)))"
      ],
      "execution_count": 19,
      "outputs": [
        {
          "output_type": "stream",
          "text": [
            "Variance retained: 0.9999999842087076\n"
          ],
          "name": "stdout"
        }
      ]
    },
    {
      "cell_type": "markdown",
      "metadata": {
        "id": "v4VHd6z4cZV4"
      },
      "source": [
        "We reduce the dimensionality of the feature vectors from 18 to 10 to reduce the irrelevant information, and yet we can see that we 99.99999% of the variance is still retained thus depicting very minute fraction of information being lost."
      ]
    },
    {
      "cell_type": "markdown",
      "metadata": {
        "id": "KPdfubF77zry"
      },
      "source": [
        "#### Pre-processing the data for ML model"
      ]
    },
    {
      "cell_type": "code",
      "metadata": {
        "colab": {
          "base_uri": "https://localhost:8080/",
          "height": 238
        },
        "id": "ZFkP4pVvnloa",
        "outputId": "4f746f68-845f-4911-9752-94d303b81b44"
      },
      "source": [
        "X_train, X_val, y_train, y_val = train_test_split(X_pca, Y, test_size=0.4, random_state=57)\n",
        "display(X_train)"
      ],
      "execution_count": 20,
      "outputs": [
        {
          "output_type": "display_data",
          "data": {
            "text/plain": [
              "array([[-2.22332137e+04,  4.73881919e+02, -2.27224789e+01, ...,\n",
              "        -8.32592600e+00,  5.86612092e+00, -2.03700879e+00],\n",
              "       [-1.62323226e+03,  1.86920583e+02, -1.74646279e+01, ...,\n",
              "         3.45364980e+00, -5.09071951e+00,  3.50638824e-01],\n",
              "       [ 2.80896827e+04, -1.35650546e+03, -5.52232170e+01, ...,\n",
              "         4.88490089e+00, -3.63034224e+00,  1.22553720e+00],\n",
              "       ...,\n",
              "       [-2.13083278e+04, -1.11257575e+03,  4.81262627e+01, ...,\n",
              "         3.15871541e+00, -3.38116453e+00, -7.35538978e-01],\n",
              "       [ 1.83940913e+04,  5.58539798e+03,  1.74724130e+01, ...,\n",
              "         3.26634615e+00, -6.57998958e+00,  4.70537777e-01],\n",
              "       [-3.12149987e+04,  3.82801635e+03, -6.67558376e+01, ...,\n",
              "         4.50469408e+00, -3.72964289e+00, -8.03080652e-01]])"
            ]
          },
          "metadata": {}
        }
      ]
    },
    {
      "cell_type": "code",
      "metadata": {
        "colab": {
          "base_uri": "https://localhost:8080/",
          "height": 419
        },
        "id": "bYJLrk2C5YT2",
        "outputId": "c70dfdd1-cc18-46b1-ee80-a9b4b376d2e1"
      },
      "source": [
        "scaler= preprocessing.StandardScaler()\n",
        "scaler.fit(X_train)\n",
        "X_train=pd.DataFrame(scaler.transform(X_train))\n",
        "display(X_train)\n",
        "X_val=pd.DataFrame(scaler.transform(X_val))"
      ],
      "execution_count": 21,
      "outputs": [
        {
          "output_type": "display_data",
          "data": {
            "text/html": [
              "<div>\n",
              "<style scoped>\n",
              "    .dataframe tbody tr th:only-of-type {\n",
              "        vertical-align: middle;\n",
              "    }\n",
              "\n",
              "    .dataframe tbody tr th {\n",
              "        vertical-align: top;\n",
              "    }\n",
              "\n",
              "    .dataframe thead th {\n",
              "        text-align: right;\n",
              "    }\n",
              "</style>\n",
              "<table border=\"1\" class=\"dataframe\">\n",
              "  <thead>\n",
              "    <tr style=\"text-align: right;\">\n",
              "      <th></th>\n",
              "      <th>0</th>\n",
              "      <th>1</th>\n",
              "      <th>2</th>\n",
              "      <th>3</th>\n",
              "      <th>4</th>\n",
              "      <th>5</th>\n",
              "      <th>6</th>\n",
              "      <th>7</th>\n",
              "      <th>8</th>\n",
              "      <th>9</th>\n",
              "    </tr>\n",
              "  </thead>\n",
              "  <tbody>\n",
              "    <tr>\n",
              "      <th>0</th>\n",
              "      <td>-0.753658</td>\n",
              "      <td>0.116532</td>\n",
              "      <td>-0.482765</td>\n",
              "      <td>-0.418048</td>\n",
              "      <td>0.609963</td>\n",
              "      <td>-0.005694</td>\n",
              "      <td>0.285172</td>\n",
              "      <td>-1.313626</td>\n",
              "      <td>0.967614</td>\n",
              "      <td>-0.610861</td>\n",
              "    </tr>\n",
              "    <tr>\n",
              "      <th>1</th>\n",
              "      <td>-0.053242</td>\n",
              "      <td>0.045325</td>\n",
              "      <td>-0.372211</td>\n",
              "      <td>-0.505098</td>\n",
              "      <td>-0.632531</td>\n",
              "      <td>-0.000637</td>\n",
              "      <td>0.088327</td>\n",
              "      <td>0.537680</td>\n",
              "      <td>-0.840057</td>\n",
              "      <td>0.106703</td>\n",
              "    </tr>\n",
              "    <tr>\n",
              "      <th>2</th>\n",
              "      <td>0.956532</td>\n",
              "      <td>-0.337662</td>\n",
              "      <td>-1.166139</td>\n",
              "      <td>-0.007541</td>\n",
              "      <td>-0.264675</td>\n",
              "      <td>0.048414</td>\n",
              "      <td>-0.031254</td>\n",
              "      <td>0.762619</td>\n",
              "      <td>-0.599122</td>\n",
              "      <td>0.369638</td>\n",
              "    </tr>\n",
              "    <tr>\n",
              "      <th>3</th>\n",
              "      <td>-0.043052</td>\n",
              "      <td>-0.579614</td>\n",
              "      <td>-0.399635</td>\n",
              "      <td>0.478481</td>\n",
              "      <td>-0.432710</td>\n",
              "      <td>0.017224</td>\n",
              "      <td>-0.620464</td>\n",
              "      <td>-1.064064</td>\n",
              "      <td>0.713321</td>\n",
              "      <td>1.136393</td>\n",
              "    </tr>\n",
              "    <tr>\n",
              "      <th>4</th>\n",
              "      <td>-1.096741</td>\n",
              "      <td>-1.144991</td>\n",
              "      <td>-0.561217</td>\n",
              "      <td>-0.400546</td>\n",
              "      <td>-0.468826</td>\n",
              "      <td>0.001836</td>\n",
              "      <td>-0.238616</td>\n",
              "      <td>0.575168</td>\n",
              "      <td>-0.399509</td>\n",
              "      <td>0.324134</td>\n",
              "    </tr>\n",
              "    <tr>\n",
              "      <th>...</th>\n",
              "      <td>...</td>\n",
              "      <td>...</td>\n",
              "      <td>...</td>\n",
              "      <td>...</td>\n",
              "      <td>...</td>\n",
              "      <td>...</td>\n",
              "      <td>...</td>\n",
              "      <td>...</td>\n",
              "      <td>...</td>\n",
              "      <td>...</td>\n",
              "    </tr>\n",
              "    <tr>\n",
              "      <th>43784</th>\n",
              "      <td>-1.075670</td>\n",
              "      <td>-1.027268</td>\n",
              "      <td>0.041530</td>\n",
              "      <td>-0.527552</td>\n",
              "      <td>-0.662544</td>\n",
              "      <td>-0.042913</td>\n",
              "      <td>-0.052296</td>\n",
              "      <td>0.474677</td>\n",
              "      <td>-0.353742</td>\n",
              "      <td>-0.243414</td>\n",
              "    </tr>\n",
              "    <tr>\n",
              "      <th>43785</th>\n",
              "      <td>-0.059676</td>\n",
              "      <td>-1.227154</td>\n",
              "      <td>1.069784</td>\n",
              "      <td>-0.465218</td>\n",
              "      <td>-0.479485</td>\n",
              "      <td>-0.158235</td>\n",
              "      <td>-0.096743</td>\n",
              "      <td>0.335139</td>\n",
              "      <td>-0.676920</td>\n",
              "      <td>0.087063</td>\n",
              "    </tr>\n",
              "    <tr>\n",
              "      <th>43786</th>\n",
              "      <td>-0.722227</td>\n",
              "      <td>-0.277133</td>\n",
              "      <td>1.006929</td>\n",
              "      <td>-0.191586</td>\n",
              "      <td>-0.565961</td>\n",
              "      <td>-0.158490</td>\n",
              "      <td>-0.148756</td>\n",
              "      <td>0.491327</td>\n",
              "      <td>-0.558013</td>\n",
              "      <td>-0.219728</td>\n",
              "    </tr>\n",
              "    <tr>\n",
              "      <th>43787</th>\n",
              "      <td>0.627034</td>\n",
              "      <td>1.384907</td>\n",
              "      <td>0.362389</td>\n",
              "      <td>-0.541978</td>\n",
              "      <td>-0.504906</td>\n",
              "      <td>-0.080743</td>\n",
              "      <td>0.380913</td>\n",
              "      <td>0.508243</td>\n",
              "      <td>-1.085758</td>\n",
              "      <td>0.142737</td>\n",
              "    </tr>\n",
              "    <tr>\n",
              "      <th>43788</th>\n",
              "      <td>-1.058898</td>\n",
              "      <td>0.948829</td>\n",
              "      <td>-1.408628</td>\n",
              "      <td>-0.361877</td>\n",
              "      <td>-0.379098</td>\n",
              "      <td>0.087036</td>\n",
              "      <td>-0.215769</td>\n",
              "      <td>0.702864</td>\n",
              "      <td>-0.615505</td>\n",
              "      <td>-0.240026</td>\n",
              "    </tr>\n",
              "  </tbody>\n",
              "</table>\n",
              "<p>43789 rows × 10 columns</p>\n",
              "</div>"
            ],
            "text/plain": [
              "              0         1         2  ...         7         8         9\n",
              "0     -0.753658  0.116532 -0.482765  ... -1.313626  0.967614 -0.610861\n",
              "1     -0.053242  0.045325 -0.372211  ...  0.537680 -0.840057  0.106703\n",
              "2      0.956532 -0.337662 -1.166139  ...  0.762619 -0.599122  0.369638\n",
              "3     -0.043052 -0.579614 -0.399635  ... -1.064064  0.713321  1.136393\n",
              "4     -1.096741 -1.144991 -0.561217  ...  0.575168 -0.399509  0.324134\n",
              "...         ...       ...       ...  ...       ...       ...       ...\n",
              "43784 -1.075670 -1.027268  0.041530  ...  0.474677 -0.353742 -0.243414\n",
              "43785 -0.059676 -1.227154  1.069784  ...  0.335139 -0.676920  0.087063\n",
              "43786 -0.722227 -0.277133  1.006929  ...  0.491327 -0.558013 -0.219728\n",
              "43787  0.627034  1.384907  0.362389  ...  0.508243 -1.085758  0.142737\n",
              "43788 -1.058898  0.948829 -1.408628  ...  0.702864 -0.615505 -0.240026\n",
              "\n",
              "[43789 rows x 10 columns]"
            ]
          },
          "metadata": {}
        }
      ]
    },
    {
      "cell_type": "code",
      "metadata": {
        "colab": {
          "base_uri": "https://localhost:8080/",
          "height": 596
        },
        "id": "Sp1JHrbf6WlE",
        "outputId": "bc2a7b9f-c97a-4e0c-a3e6-d3124887ba5b"
      },
      "source": [
        "corrMatrix = X_train.corr(method='spearman')\n",
        "fig, ax = plt.subplots(figsize=(12,10))\n",
        "sns.heatmap(abs(corrMatrix), annot=True)\n",
        "plt.show()"
      ],
      "execution_count": 22,
      "outputs": [
        {
          "output_type": "display_data",
          "data": {
            "image/png": "[encoded data removed]",
            "text/plain": [
              "<Figure size 864x720 with 2 Axes>"
            ]
          },
          "metadata": {
            "needs_background": "light"
          }
        }
      ]
    },
    {
      "cell_type": "markdown",
      "metadata": {
        "id": "ZK-iAmN7dPoZ"
      },
      "source": [
        "The correlation matrix here does show that all the features are very much independent of each other."
      ]
    },
    {
      "cell_type": "markdown",
      "metadata": {
        "id": "w8g88Xxo8EdP"
      },
      "source": [
        "#### Building an ML model: Random Forest Classifier"
      ]
    },
    {
      "cell_type": "code",
      "metadata": {
        "colab": {
          "base_uri": "https://localhost:8080/"
        },
        "id": "lt8IWbS-IMnu",
        "outputId": "952d66f3-f31b-484e-f064-3504f1989431"
      },
      "source": [
        "start_time=time.time()\n",
        "scoring = 'f1'\n",
        "rfc = RandomForestClassifier()\n",
        "hyperparameters = {'max_depth':[2,5,10,20],'n_estimators':[10,30,100]}\n",
        "clf = GridSearchCV(rfc, param_grid=hyperparameters, scoring='f1')\n",
        "clf.fit(np.array(X_train), np.squeeze(y_train))\n",
        "print('Training time for Random Forest Classifier: %.2f seconds \\n'%(time.time()-start_time))\n",
        "print('Best parameters: ')\n",
        "print(clf.best_params_)\n",
        "print('Best' +scoring+\":\" +str(clf.best_score_))\n",
        "\n",
        "print('Test classification report:')\n",
        "y_true, y_pred = np.squeeze(y_val), clf.predict(np.array(X_val))\n",
        "print(classification_report(y_true, y_pred))\n",
        "\n",
        "print('Test AUC-ROC: '+str(roc_auc_score(y_true, y_pred)))"
      ],
      "execution_count": 23,
      "outputs": [
        {
          "output_type": "stream",
          "text": [
            "Training time for Random Forest Classifier: 224.43 seconds \n",
            "\n",
            "Best parameters: \n",
            "{'max_depth': 20, 'n_estimators': 100}\n",
            "Bestf1:0.943471959675346\n",
            "Test classification report:\n",
            "              precision    recall  f1-score   support\n",
            "\n",
            "           0       0.93      0.96      0.95     13695\n",
            "           1       0.97      0.94      0.95     15499\n",
            "\n",
            "    accuracy                           0.95     29194\n",
            "   macro avg       0.95      0.95      0.95     29194\n",
            "weighted avg       0.95      0.95      0.95     29194\n",
            "\n",
            "Test AUC-ROC: 0.9500494785127995\n"
          ],
          "name": "stdout"
        }
      ]
    },
    {
      "cell_type": "markdown",
      "metadata": {
        "id": "cqf0H9I6ImVY"
      },
      "source": [
        "Building a model On XG Boost\n"
      ]
    },
    {
      "cell_type": "code",
      "metadata": {
        "id": "ORSfydaLGZ4d"
      },
      "source": [
        "import xgboost as xgb\n",
        "from xgboost import XGBClassifier\n"
      ],
      "execution_count": 33,
      "outputs": []
    },
    {
      "cell_type": "code",
      "metadata": {
        "colab": {
          "base_uri": "https://localhost:8080/"
        },
        "id": "jIWAeaS7JT7A",
        "outputId": "b96be82d-ae10-4261-acb3-99decbe417d4"
      },
      "source": [
        "start_time=time.time()\n",
        "scoring = 'f1'\n",
        "xgb =  XGBClassifier()\n",
        "hyperparameters = {'max_depth':[2,5,10,20],'n_estimators':[10,30,100]}\n",
        "clf = GridSearchCV(xgb, param_grid=hyperparameters, scoring='f1')\n",
        "clf.fit(np.array(X_train), np.squeeze(y_train))\n",
        "print('Training time for XGBoost Classifier: %.2f seconds \\n'%(time.time()-start_time))\n",
        "print('Best parameters: ')\n",
        "print(clf.best_params_)\n",
        "print('Best' +scoring+\":\" +str(clf.best_score_))\n",
        "\n",
        "print('Test classification report:')\n",
        "y_true, y_pred = np.squeeze(y_val), clf.predict(np.array(X_val))\n",
        "print(classification_report(y_true, y_pred))\n",
        "\n",
        "print('Test AUC-ROC: '+str(roc_auc_score(y_true, y_pred)))"
      ],
      "execution_count": 32,
      "outputs": [
        {
          "output_type": "stream",
          "text": [
            "Training time for XGBoost Classifier: 295.55 seconds \n",
            "\n",
            "Best parameters: \n",
            "{'max_depth': 20, 'n_estimators': 100}\n",
            "Bestf1:0.9735632567298321\n",
            "Test classification report:\n",
            "              precision    recall  f1-score   support\n",
            "\n",
            "           0       0.97      0.98      0.98     13695\n",
            "           1       0.98      0.97      0.98     15499\n",
            "\n",
            "    accuracy                           0.98     29194\n",
            "   macro avg       0.98      0.98      0.98     29194\n",
            "weighted avg       0.98      0.98      0.98     29194\n",
            "\n",
            "Test AUC-ROC: 0.9782648498374426\n"
          ],
          "name": "stdout"
        }
      ]
    },
    {
      "cell_type": "markdown",
      "metadata": {
        "id": "5GPR0Pd08T5s"
      },
      "source": [
        "#### Model evaluation"
      ]
    },
    {
      "cell_type": "markdown",
      "metadata": {
        "id": "8WZJLlWseTPm"
      },
      "source": [
        "In order to further evaluate the model, we test it on a completely unseen test data."
      ]
    },
    {
      "cell_type": "code",
      "metadata": {
        "id": "ohWSWun1lMBj"
      },
      "source": [
        "test_df=train_df.sample(n=2000)"
      ],
      "execution_count": 24,
      "outputs": []
    },
    {
      "cell_type": "code",
      "metadata": {
        "colab": {
          "base_uri": "https://localhost:8080/",
          "height": 439
        },
        "id": "DJP137Ckljvt",
        "outputId": "92e48a23-8cb2-45c8-e60a-28928b41d31e"
      },
      "source": [
        "test = pd.merge(test_df, transaction_df, on='msno', how='left')\n",
        "test = pd.merge(test, members_df, on='msno', how='left')\n",
        "test = pd.merge(test, userlogs_df, on='msno', how='left')\n",
        "display(test)"
      ],
      "execution_count": 25,
      "outputs": [
        {
          "output_type": "display_data",
          "data": {
            "text/html": [
              "<div>\n",
              "<style scoped>\n",
              "    .dataframe tbody tr th:only-of-type {\n",
              "        vertical-align: middle;\n",
              "    }\n",
              "\n",
              "    .dataframe tbody tr th {\n",
              "        vertical-align: top;\n",
              "    }\n",
              "\n",
              "    .dataframe thead th {\n",
              "        text-align: right;\n",
              "    }\n",
              "</style>\n",
              "<table border=\"1\" class=\"dataframe\">\n",
              "  <thead>\n",
              "    <tr style=\"text-align: right;\">\n",
              "      <th></th>\n",
              "      <th>msno</th>\n",
              "      <th>is_churn</th>\n",
              "      <th>payment_method_id</th>\n",
              "      <th>payment_plan_days</th>\n",
              "      <th>plan_list_price</th>\n",
              "      <th>actual_amount_paid</th>\n",
              "      <th>is_auto_renew</th>\n",
              "      <th>transaction_date</th>\n",
              "      <th>membership_expire_date</th>\n",
              "      <th>is_cancel</th>\n",
              "      <th>city</th>\n",
              "      <th>bd</th>\n",
              "      <th>gender</th>\n",
              "      <th>registered_via</th>\n",
              "      <th>registration_init_time</th>\n",
              "      <th>date</th>\n",
              "      <th>num_25</th>\n",
              "      <th>num_50</th>\n",
              "      <th>num_75</th>\n",
              "      <th>num_985</th>\n",
              "      <th>num_100</th>\n",
              "      <th>num_unq</th>\n",
              "      <th>total_secs</th>\n",
              "    </tr>\n",
              "  </thead>\n",
              "  <tbody>\n",
              "    <tr>\n",
              "      <th>0</th>\n",
              "      <td>x8cI6+dUiWVx9HiY6vwTx6kZjgQnYKIFTyzErrTzMZ0=</td>\n",
              "      <td>0</td>\n",
              "      <td>41.0</td>\n",
              "      <td>30.0</td>\n",
              "      <td>149.0</td>\n",
              "      <td>149.0</td>\n",
              "      <td>1.0</td>\n",
              "      <td>20170321.0</td>\n",
              "      <td>20170421.0</td>\n",
              "      <td>0.0</td>\n",
              "      <td>NaN</td>\n",
              "      <td>NaN</td>\n",
              "      <td>NaN</td>\n",
              "      <td>NaN</td>\n",
              "      <td>NaN</td>\n",
              "      <td>NaN</td>\n",
              "      <td>NaN</td>\n",
              "      <td>NaN</td>\n",
              "      <td>NaN</td>\n",
              "      <td>NaN</td>\n",
              "      <td>NaN</td>\n",
              "      <td>NaN</td>\n",
              "      <td>NaN</td>\n",
              "    </tr>\n",
              "    <tr>\n",
              "      <th>1</th>\n",
              "      <td>Ep/nPEw5R+KTQCWtRQTHU3kc3HFEwN6eYoOkmReCQEE=</td>\n",
              "      <td>0</td>\n",
              "      <td>36.0</td>\n",
              "      <td>30.0</td>\n",
              "      <td>180.0</td>\n",
              "      <td>180.0</td>\n",
              "      <td>1.0</td>\n",
              "      <td>20170316.0</td>\n",
              "      <td>20170419.0</td>\n",
              "      <td>0.0</td>\n",
              "      <td>1.0</td>\n",
              "      <td>0.0</td>\n",
              "      <td>NaN</td>\n",
              "      <td>4.0</td>\n",
              "      <td>20161113.0</td>\n",
              "      <td>20170314.0</td>\n",
              "      <td>0.0</td>\n",
              "      <td>0.0</td>\n",
              "      <td>0.0</td>\n",
              "      <td>0.0</td>\n",
              "      <td>2.0</td>\n",
              "      <td>2.0</td>\n",
              "      <td>427.362</td>\n",
              "    </tr>\n",
              "    <tr>\n",
              "      <th>2</th>\n",
              "      <td>Ep/nPEw5R+KTQCWtRQTHU3kc3HFEwN6eYoOkmReCQEE=</td>\n",
              "      <td>0</td>\n",
              "      <td>36.0</td>\n",
              "      <td>30.0</td>\n",
              "      <td>180.0</td>\n",
              "      <td>180.0</td>\n",
              "      <td>1.0</td>\n",
              "      <td>20170316.0</td>\n",
              "      <td>20170419.0</td>\n",
              "      <td>0.0</td>\n",
              "      <td>1.0</td>\n",
              "      <td>0.0</td>\n",
              "      <td>NaN</td>\n",
              "      <td>4.0</td>\n",
              "      <td>20161113.0</td>\n",
              "      <td>20170307.0</td>\n",
              "      <td>4.0</td>\n",
              "      <td>3.0</td>\n",
              "      <td>2.0</td>\n",
              "      <td>1.0</td>\n",
              "      <td>2.0</td>\n",
              "      <td>10.0</td>\n",
              "      <td>1200.821</td>\n",
              "    </tr>\n",
              "    <tr>\n",
              "      <th>3</th>\n",
              "      <td>Ep/nPEw5R+KTQCWtRQTHU3kc3HFEwN6eYoOkmReCQEE=</td>\n",
              "      <td>0</td>\n",
              "      <td>36.0</td>\n",
              "      <td>30.0</td>\n",
              "      <td>180.0</td>\n",
              "      <td>180.0</td>\n",
              "      <td>1.0</td>\n",
              "      <td>20170316.0</td>\n",
              "      <td>20170419.0</td>\n",
              "      <td>0.0</td>\n",
              "      <td>1.0</td>\n",
              "      <td>0.0</td>\n",
              "      <td>NaN</td>\n",
              "      <td>4.0</td>\n",
              "      <td>20161113.0</td>\n",
              "      <td>20170316.0</td>\n",
              "      <td>5.0</td>\n",
              "      <td>0.0</td>\n",
              "      <td>0.0</td>\n",
              "      <td>2.0</td>\n",
              "      <td>0.0</td>\n",
              "      <td>7.0</td>\n",
              "      <td>444.238</td>\n",
              "    </tr>\n",
              "    <tr>\n",
              "      <th>4</th>\n",
              "      <td>Ep/nPEw5R+KTQCWtRQTHU3kc3HFEwN6eYoOkmReCQEE=</td>\n",
              "      <td>0</td>\n",
              "      <td>36.0</td>\n",
              "      <td>30.0</td>\n",
              "      <td>180.0</td>\n",
              "      <td>180.0</td>\n",
              "      <td>1.0</td>\n",
              "      <td>20170316.0</td>\n",
              "      <td>20170419.0</td>\n",
              "      <td>0.0</td>\n",
              "      <td>1.0</td>\n",
              "      <td>0.0</td>\n",
              "      <td>NaN</td>\n",
              "      <td>4.0</td>\n",
              "      <td>20161113.0</td>\n",
              "      <td>20170311.0</td>\n",
              "      <td>1.0</td>\n",
              "      <td>0.0</td>\n",
              "      <td>1.0</td>\n",
              "      <td>0.0</td>\n",
              "      <td>28.0</td>\n",
              "      <td>29.0</td>\n",
              "      <td>6920.583</td>\n",
              "    </tr>\n",
              "    <tr>\n",
              "      <th>...</th>\n",
              "      <td>...</td>\n",
              "      <td>...</td>\n",
              "      <td>...</td>\n",
              "      <td>...</td>\n",
              "      <td>...</td>\n",
              "      <td>...</td>\n",
              "      <td>...</td>\n",
              "      <td>...</td>\n",
              "      <td>...</td>\n",
              "      <td>...</td>\n",
              "      <td>...</td>\n",
              "      <td>...</td>\n",
              "      <td>...</td>\n",
              "      <td>...</td>\n",
              "      <td>...</td>\n",
              "      <td>...</td>\n",
              "      <td>...</td>\n",
              "      <td>...</td>\n",
              "      <td>...</td>\n",
              "      <td>...</td>\n",
              "      <td>...</td>\n",
              "      <td>...</td>\n",
              "      <td>...</td>\n",
              "    </tr>\n",
              "    <tr>\n",
              "      <th>35297</th>\n",
              "      <td>BAb8HUM/kTXwnAZ3gtODmZWPXE8/KonDToVZ1CMawJQ=</td>\n",
              "      <td>1</td>\n",
              "      <td>NaN</td>\n",
              "      <td>NaN</td>\n",
              "      <td>NaN</td>\n",
              "      <td>NaN</td>\n",
              "      <td>NaN</td>\n",
              "      <td>NaN</td>\n",
              "      <td>NaN</td>\n",
              "      <td>NaN</td>\n",
              "      <td>15.0</td>\n",
              "      <td>0.0</td>\n",
              "      <td>NaN</td>\n",
              "      <td>3.0</td>\n",
              "      <td>20130411.0</td>\n",
              "      <td>20170306.0</td>\n",
              "      <td>25.0</td>\n",
              "      <td>1.0</td>\n",
              "      <td>0.0</td>\n",
              "      <td>0.0</td>\n",
              "      <td>6.0</td>\n",
              "      <td>32.0</td>\n",
              "      <td>1638.150</td>\n",
              "    </tr>\n",
              "    <tr>\n",
              "      <th>35298</th>\n",
              "      <td>BAb8HUM/kTXwnAZ3gtODmZWPXE8/KonDToVZ1CMawJQ=</td>\n",
              "      <td>1</td>\n",
              "      <td>NaN</td>\n",
              "      <td>NaN</td>\n",
              "      <td>NaN</td>\n",
              "      <td>NaN</td>\n",
              "      <td>NaN</td>\n",
              "      <td>NaN</td>\n",
              "      <td>NaN</td>\n",
              "      <td>NaN</td>\n",
              "      <td>15.0</td>\n",
              "      <td>0.0</td>\n",
              "      <td>NaN</td>\n",
              "      <td>3.0</td>\n",
              "      <td>20130411.0</td>\n",
              "      <td>20170316.0</td>\n",
              "      <td>16.0</td>\n",
              "      <td>3.0</td>\n",
              "      <td>1.0</td>\n",
              "      <td>1.0</td>\n",
              "      <td>7.0</td>\n",
              "      <td>28.0</td>\n",
              "      <td>2526.224</td>\n",
              "    </tr>\n",
              "    <tr>\n",
              "      <th>35299</th>\n",
              "      <td>BAb8HUM/kTXwnAZ3gtODmZWPXE8/KonDToVZ1CMawJQ=</td>\n",
              "      <td>1</td>\n",
              "      <td>NaN</td>\n",
              "      <td>NaN</td>\n",
              "      <td>NaN</td>\n",
              "      <td>NaN</td>\n",
              "      <td>NaN</td>\n",
              "      <td>NaN</td>\n",
              "      <td>NaN</td>\n",
              "      <td>NaN</td>\n",
              "      <td>15.0</td>\n",
              "      <td>0.0</td>\n",
              "      <td>NaN</td>\n",
              "      <td>3.0</td>\n",
              "      <td>20130411.0</td>\n",
              "      <td>20170309.0</td>\n",
              "      <td>35.0</td>\n",
              "      <td>1.0</td>\n",
              "      <td>0.0</td>\n",
              "      <td>1.0</td>\n",
              "      <td>7.0</td>\n",
              "      <td>41.0</td>\n",
              "      <td>2061.623</td>\n",
              "    </tr>\n",
              "    <tr>\n",
              "      <th>35300</th>\n",
              "      <td>BAb8HUM/kTXwnAZ3gtODmZWPXE8/KonDToVZ1CMawJQ=</td>\n",
              "      <td>1</td>\n",
              "      <td>NaN</td>\n",
              "      <td>NaN</td>\n",
              "      <td>NaN</td>\n",
              "      <td>NaN</td>\n",
              "      <td>NaN</td>\n",
              "      <td>NaN</td>\n",
              "      <td>NaN</td>\n",
              "      <td>NaN</td>\n",
              "      <td>15.0</td>\n",
              "      <td>0.0</td>\n",
              "      <td>NaN</td>\n",
              "      <td>3.0</td>\n",
              "      <td>20130411.0</td>\n",
              "      <td>20170304.0</td>\n",
              "      <td>2.0</td>\n",
              "      <td>0.0</td>\n",
              "      <td>2.0</td>\n",
              "      <td>1.0</td>\n",
              "      <td>5.0</td>\n",
              "      <td>8.0</td>\n",
              "      <td>1875.583</td>\n",
              "    </tr>\n",
              "    <tr>\n",
              "      <th>35301</th>\n",
              "      <td>BAb8HUM/kTXwnAZ3gtODmZWPXE8/KonDToVZ1CMawJQ=</td>\n",
              "      <td>1</td>\n",
              "      <td>NaN</td>\n",
              "      <td>NaN</td>\n",
              "      <td>NaN</td>\n",
              "      <td>NaN</td>\n",
              "      <td>NaN</td>\n",
              "      <td>NaN</td>\n",
              "      <td>NaN</td>\n",
              "      <td>NaN</td>\n",
              "      <td>15.0</td>\n",
              "      <td>0.0</td>\n",
              "      <td>NaN</td>\n",
              "      <td>3.0</td>\n",
              "      <td>20130411.0</td>\n",
              "      <td>20170311.0</td>\n",
              "      <td>0.0</td>\n",
              "      <td>1.0</td>\n",
              "      <td>0.0</td>\n",
              "      <td>0.0</td>\n",
              "      <td>1.0</td>\n",
              "      <td>2.0</td>\n",
              "      <td>314.580</td>\n",
              "    </tr>\n",
              "  </tbody>\n",
              "</table>\n",
              "<p>35302 rows × 23 columns</p>\n",
              "</div>"
            ],
            "text/plain": [
              "                                               msno  ...  total_secs\n",
              "0      x8cI6+dUiWVx9HiY6vwTx6kZjgQnYKIFTyzErrTzMZ0=  ...         NaN\n",
              "1      Ep/nPEw5R+KTQCWtRQTHU3kc3HFEwN6eYoOkmReCQEE=  ...     427.362\n",
              "2      Ep/nPEw5R+KTQCWtRQTHU3kc3HFEwN6eYoOkmReCQEE=  ...    1200.821\n",
              "3      Ep/nPEw5R+KTQCWtRQTHU3kc3HFEwN6eYoOkmReCQEE=  ...     444.238\n",
              "4      Ep/nPEw5R+KTQCWtRQTHU3kc3HFEwN6eYoOkmReCQEE=  ...    6920.583\n",
              "...                                             ...  ...         ...\n",
              "35297  BAb8HUM/kTXwnAZ3gtODmZWPXE8/KonDToVZ1CMawJQ=  ...    1638.150\n",
              "35298  BAb8HUM/kTXwnAZ3gtODmZWPXE8/KonDToVZ1CMawJQ=  ...    2526.224\n",
              "35299  BAb8HUM/kTXwnAZ3gtODmZWPXE8/KonDToVZ1CMawJQ=  ...    2061.623\n",
              "35300  BAb8HUM/kTXwnAZ3gtODmZWPXE8/KonDToVZ1CMawJQ=  ...    1875.583\n",
              "35301  BAb8HUM/kTXwnAZ3gtODmZWPXE8/KonDToVZ1CMawJQ=  ...     314.580\n",
              "\n",
              "[35302 rows x 23 columns]"
            ]
          },
          "metadata": {}
        }
      ]
    },
    {
      "cell_type": "code",
      "metadata": {
        "id": "Bgk4nnt2vuSh"
      },
      "source": [
        "# Processing the data to take care of null values and unwanted columns\n",
        "X_test, y_test = process(test)\n",
        "\n",
        "# PCA Fitting\n",
        "X_test_pca = pca.fit_transform(X_test.to_numpy())\n",
        "\n",
        "# Standardising the X_test data\n",
        "X_test=pd.DataFrame(scaler.transform(X_test_pca))"
      ],
      "execution_count": 26,
      "outputs": []
    },
    {
      "cell_type": "code",
      "metadata": {
        "colab": {
          "base_uri": "https://localhost:8080/"
        },
        "id": "2u-bok0lwRtp",
        "outputId": "838ffa8f-1631-4a9a-b8d1-49708c483267"
      },
      "source": [
        "start_time = time.time()\n",
        "y_true, y_pred = np.squeeze(y_test), clf.predict(np.array(X_test))\n",
        "print('Testing time: %.2f seconds \\n'%(time.time()-start_time))\n",
        "\n",
        "print('Test classification report:')\n",
        "print(classification_report(y_true, y_pred))\n",
        "\n",
        "print('Test AUC-ROC: '+str(roc_auc_score(y_true, y_pred)))"
      ],
      "execution_count": 27,
      "outputs": [
        {
          "output_type": "stream",
          "text": [
            "Testing time: 0.46 seconds \n",
            "\n",
            "Test classification report:\n",
            "              precision    recall  f1-score   support\n",
            "\n",
            "           0       0.62      0.62      0.62     16246\n",
            "           1       0.68      0.68      0.68     19056\n",
            "\n",
            "    accuracy                           0.65     35302\n",
            "   macro avg       0.65      0.65      0.65     35302\n",
            "weighted avg       0.65      0.65      0.65     35302\n",
            "\n",
            "Test AUC-ROC: 0.6517105082405868\n"
          ],
          "name": "stdout"
        }
      ]
    },
    {
      "cell_type": "markdown",
      "metadata": {
        "id": "-iraJoZFewrH"
      },
      "source": [
        "The accuracy on the model is 80% on this test dataset,which can be considered good."
      ]
    },
    {
      "cell_type": "markdown",
      "metadata": {
        "id": "T7MxctqLLoI0"
      },
      "source": [
        "The test prediction on Xgboost classifier "
      ]
    },
    {
      "cell_type": "code",
      "metadata": {
        "colab": {
          "base_uri": "https://localhost:8080/"
        },
        "id": "pyU0VR6KFGud",
        "outputId": "7c5c9f47-0158-4bc7-9d16-5c42aa934ee5"
      },
      "source": [
        "start_time = time.time()\n",
        "y_true, y_pred = np.squeeze(y_test), clf.predict(np.array(X_test))\n",
        "print('Testing time: %.2f seconds \\n'%(time.time()-start_time))\n",
        "\n",
        "print('Test classification report:')\n",
        "print(classification_report(y_true, y_pred))\n",
        "\n",
        "print('Test AUC-ROC: '+str(roc_auc_score(y_true, y_pred)))"
      ],
      "execution_count": 34,
      "outputs": [
        {
          "output_type": "stream",
          "text": [
            "Testing time: 0.65 seconds \n",
            "\n",
            "Test classification report:\n",
            "              precision    recall  f1-score   support\n",
            "\n",
            "           0       0.64      0.61      0.62     16246\n",
            "           1       0.68      0.70      0.69     19056\n",
            "\n",
            "    accuracy                           0.66     35302\n",
            "   macro avg       0.66      0.66      0.66     35302\n",
            "weighted avg       0.66      0.66      0.66     35302\n",
            "\n",
            "Test AUC-ROC: 0.655805306154028\n"
          ],
          "name": "stdout"
        }
      ]
    },
    {
      "cell_type": "markdown",
      "metadata": {
        "id": "WnKR-lniL6AP"
      },
      "source": [
        "The xgboost perform better fit to the model even though there is down sizing of the data."
      ]
    },
    {
      "cell_type": "code",
      "metadata": {
        "id": "AOuAdesOLvL4"
      },
      "source": [
        ""
      ],
      "execution_count": null,
      "outputs": []
    }
  ]
}